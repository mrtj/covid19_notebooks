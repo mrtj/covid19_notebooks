{
 "cells": [
  {
   "cell_type": "code",
   "execution_count": null,
   "metadata": {},
   "outputs": [],
   "source": [
    "import urllib.request\n",
    "from datetime import datetime\n",
    "import dateutil\n",
    "import re, os, shutil, logging, json, functools\n",
    "\n",
    "import pandas as pd\n",
    "from datetime import date\n",
    "import matplotlib.pyplot as plt\n",
    "import matplotlib.dates as mdates\n",
    "import matplotlib.ticker as ticker\n",
    "import numpy as np\n",
    "from scipy.optimize import curve_fit\n",
    "\n",
    "from ts_viz import TimeSeriesViz"
   ]
  },
  {
   "cell_type": "code",
   "execution_count": null,
   "metadata": {},
   "outputs": [],
   "source": [
    "!mkdir -p figures\n",
    "!mkdir -p data"
   ]
  },
  {
   "cell_type": "code",
   "execution_count": null,
   "metadata": {},
   "outputs": [],
   "source": [
    "def rolling_mean(df, window=7, extend=True, center=True):\n",
    "    return df.rolling(window=window, center=center, min_periods=(window // 2) if extend else window).mean()"
   ]
  },
  {
   "cell_type": "code",
   "execution_count": null,
   "metadata": {},
   "outputs": [],
   "source": [
    "import functools\n",
    "\n",
    "def lazyprop(fn):\n",
    "    attr_name = '_lazy_' + fn.__name__\n",
    "\n",
    "    @property\n",
    "    @functools.wraps(fn)\n",
    "    def _lazyprop(self):\n",
    "        if not hasattr(self, attr_name):\n",
    "            setattr(self, attr_name, fn(self))\n",
    "        return getattr(self, attr_name)\n",
    "\n",
    "    return _lazyprop\n",
    "\n",
    "class DataSet:\n",
    "\n",
    "    def __init__(self, path, repo='pcm-dpc/COVID-19', date_cols=['data'], index_cols=['data'], resample=False):\n",
    "        self.repo = repo\n",
    "        self.path = path\n",
    "        self.commit_url = f'https://api.github.com/repos/{self.repo}/commits?path={self.path}&page=1&per_page=1'\n",
    "        self.data_url = f'https://raw.githubusercontent.com/{self.repo}/master/{self.path}'\n",
    "        self.resample = resample\n",
    "        self.date_cols = date_cols\n",
    "        self.index_cols = index_cols\n",
    "    \n",
    "    @lazyprop\n",
    "    def last_modified(self):\n",
    "        with urllib.request.urlopen(self.commit_url) as url:\n",
    "            data = json.loads(url.read().decode())\n",
    "            date = data[0]['commit']['committer']['date']\n",
    "            utc_date = dateutil.parser.parse(date)\n",
    "            return utc_date.astimezone(dateutil.tz.gettz('Italy/Rome'))\n",
    "\n",
    "    @lazyprop\n",
    "    def df(self):\n",
    "        df = pd.read_csv(self.data_url, parse_dates=self.date_cols, index_col=self.index_cols)\n",
    "        if self.resample:\n",
    "            df = df.resample('D').last()\n",
    "        return df\n",
    "        \n",
    "    def __repr__(self):\n",
    "        return (f'DataSet\\n  repo: {self.repo}\\n  path: {self.path}\\n  commit_url: {self.commit_url}\\n'\n",
    "                f'  last_modified: {self.last_modified}\\n  data_url: {self.data_url}\\n  df: {len(self.df)} items')\n",
    "\n"
   ]
  },
  {
   "cell_type": "code",
   "execution_count": null,
   "metadata": {},
   "outputs": [],
   "source": [
    "def show_cases(cases_df, pop, title='Casi', figsize=(16, 10)):\n",
    "    columns = ['deceduti', 'terapia_intensiva', 'ricoverati_con_sintomi', \n",
    "               'isolamento_domiciliare', 'dimessi_guariti']\n",
    "    colors = ['tab:purple', 'tab:red', 'tab:orange', 'tab:blue', 'tab:green']\n",
    "    data = cases_df[columns] / pop\n",
    "    ax = data.plot(kind='area', title=title, color=colors, figsize=figsize)\n",
    "#     fig, ax = plt.subplots(figsize=figsize)\n",
    "#     ax.stackplot(cases_df.index, cases_df[columns].T, colors=colors)\n",
    "    ax.set_title(title)\n",
    "    ax.xaxis.grid(True, which='major')\n",
    "    ax.yaxis.grid(True, which='major')\n",
    "    locator = mdates.MonthLocator(interval=1)\n",
    "    ax.xaxis.set_major_locator(locator)\n",
    "    ax.xaxis.set_minor_locator(mdates.DayLocator(interval=1))\n",
    "    ax.xaxis.set_major_formatter(mdates.ConciseDateFormatter(locator))\n",
    "    ax.xaxis.set_label_text('')\n",
    "    ax.axhline(0.0, linewidth=2, color='white')\n",
    "    ax.legend()\n",
    "    return ax"
   ]
  },
  {
   "cell_type": "code",
   "execution_count": null,
   "metadata": {},
   "outputs": [],
   "source": [
    "class Regional:\n",
    "    \n",
    "    def __init__(self, figures_path=None):\n",
    "        self.figures_path = figures_path\n",
    "        self.dataset = DataSet('dati-regioni/dpc-covid19-ita-regioni.csv')\n",
    "        self.reg_pop = pd.read_csv('data/popolazione_regioni.csv', names=['region', 'population'], \n",
    "                                   index_col='region')\n",
    "        if self.figures_path:\n",
    "            self.cases_path = os.path.join(self.figures_path, 'cases')\n",
    "            os.makedirs(self.cases_path, exist_ok=True)\n",
    "        else:\n",
    "            self.cases_path = None\n",
    "    \n",
    "    @staticmethod\n",
    "    def slug(region):\n",
    "        return re.sub(\"\\W\", '', region).lower()\n",
    "    \n",
    "    def cases_figure_filename(self, region_name, last_modified=True):\n",
    "        if not self.cases_path:\n",
    "            return None\n",
    "        filename_elems = [Regional.slug(region_name)]\n",
    "        if last_modified:\n",
    "            filename_elems.append(f'{self.dataset.last_modified:%Y%m%d}')\n",
    "        filename = '-'.join(filename_elems) + '.png'\n",
    "        return os.path.join(self.cases_path, filename)\n",
    "    \n",
    "    def total_cases_figure_filename(self, last_modified=True):\n",
    "        if not self.cases_path:\n",
    "            return None\n",
    "        filename_elems = ['00-total']\n",
    "        if last_modified:\n",
    "            filename_elems.append(f'{self.dataset.last_modified:%Y%m%d}')\n",
    "        filename = '-'.join(filename_elems) + '.png'\n",
    "        return os.path.join(self.cases_path, filename)\n",
    "    \n",
    "    def save_figure(self, filenames, show=True, close=True):\n",
    "        if filenames:\n",
    "            plt.savefig(filenames[0])\n",
    "            for filename in filenames[1:]:\n",
    "                shutil.copyfile(filenames[0], filename)\n",
    "        if show:\n",
    "            plt.show()\n",
    "        if close:\n",
    "            plt.close()\n",
    "\n",
    "    def cases_figure(self, region_name, show=False, ylim=(-1200, 500), figsize=(16, 10)):\n",
    "        cases_df = self.dataset.df[self.dataset.df['denominazione_regione'] == region_name]\n",
    "        cases_df = cases_df.resample('D').last()\n",
    "        cases_df['deceduti'] = -cases_df['deceduti']\n",
    "        cases_df['dimessi_guariti'] = -cases_df['dimessi_guariti']\n",
    "        pop = self.reg_pop.at[region_name, 'population'] / 100000\n",
    "        ax = show_cases(cases_df, pop, \n",
    "                        title=f'Casi per 100.000 persone nella regione di {region_name}\\n'\n",
    "                              f'(dati aggiornati: {self.dataset.last_modified:%d/%m/%Y %H:%M:%S})', \n",
    "                        figsize=figsize)\n",
    "        ax.set_ylim(ylim)\n",
    "        filenames = []\n",
    "        fn_date = self.cases_figure_filename(region_name)\n",
    "        if fn_date:\n",
    "            filenames.append(fn_date)\n",
    "        fn_last = self.cases_figure_filename(region_name, last_modified=False)\n",
    "        if fn_last:\n",
    "            filenames.append(fn_last)\n",
    "        ax.xaxis.grid(True, which='major')\n",
    "        ax.yaxis.grid(True, which='major')\n",
    "        locator = mdates.MonthLocator(interval=1)\n",
    "        ax.xaxis.set_major_locator(locator)\n",
    "        ax.xaxis.set_minor_locator(mdates.DayLocator(interval=1))\n",
    "        ax.xaxis.set_major_formatter(mdates.ConciseDateFormatter(locator))\n",
    "        ax.xaxis.set_major_formatter(mdates.ConciseDateFormatter(locator))\n",
    "        ax.legend(loc='upper left')\n",
    "        self.save_figure(filenames, show)\n",
    "    \n",
    "    def region_names(self):\n",
    "        return self.dataset.df['denominazione_regione'].unique()\n",
    "    \n",
    "    def all_regions_cases_figure(self, show_regions=[], ylim=(-1200, 500), figsize=(16, 10)):\n",
    "        for region_name in show_regions:\n",
    "            self.cases_figure(region_name, show=(region_name in show_regions), ylim=ylim, figsize=figsize)\n",
    "\n",
    "    def regional_totals(self, per_population=False, column='totale_casi', diff=True, window=7):\n",
    "        regional_totals = self.dataset.df.pivot(columns='denominazione_regione', values=column)\n",
    "        regional_totals['Trentino-Alto Adige'] = \\\n",
    "            regional_totals['P.A. Bolzano'] + regional_totals['P.A. Trento']\n",
    "        regional_totals = regional_totals.drop(['P.A. Bolzano', 'P.A. Trento'], axis='columns')\n",
    "        regional_totals = regional_totals[sorted(regional_totals.columns)]\n",
    "        regional_totals = regional_totals.resample('D').last()\n",
    "        if per_population:\n",
    "            regional_totals = regional_totals.div(self.reg_pop['population']) * 100000\n",
    "        if diff:\n",
    "            regional_totals = (regional_totals - regional_totals.shift()).clip(0, None)\n",
    "        regional_totals = rolling_mean(regional_totals, window, extend=False).dropna()\n",
    "        regional_totals = regional_totals.sort_values(axis='columns', by=regional_totals.index[-1], \n",
    "                                                      ascending=False)\n",
    "        return regional_totals\n",
    "            \n",
    "    def total_cases_figure(self, show=True, per_population=False, column='totale_casi', diff=True, window=7, \n",
    "                           ylim=(0, None), xlim=(None, None), figsize=(16, 10)):\n",
    "        regional_totals = self.regional_totals(per_population, column, diff, window)\n",
    "        plot_title = f'{column} {\"giornalieri\" if diff else \"casi\"} ' \\\n",
    "                     f'{\"per 100.000 persone \" if per_population else \"\"}' \\\n",
    "                     f'in Italia per regione\\n' \\\n",
    "                     f'(dati aggiornati: {self.dataset.last_modified:%d/%m/%Y %H:%M:%S})'\n",
    "        fig, ax = plt.subplots(figsize=figsize)\n",
    "        linestyles = ['-', '--']\n",
    "        if per_population:\n",
    "            for idx, region in enumerate(regional_totals.columns):\n",
    "                ax.plot(regional_totals.index, regional_totals[region], label=region, ls=linestyles[idx//10])\n",
    "            ax.set_title(plot_title)\n",
    "        else:\n",
    "            ax = regional_totals.plot(kind='line' if per_population else 'area', figsize=figsize, \n",
    "                                      title=plot_title)\n",
    "\n",
    "        ax.xaxis.grid(True, which='major')\n",
    "        ax.yaxis.grid(True, which='major')\n",
    "        locator = mdates.WeekdayLocator(byweekday=mdates.MO)\n",
    "        ax.xaxis.set_major_locator(locator)\n",
    "        ax.xaxis.set_major_formatter(mdates.ConciseDateFormatter(locator))\n",
    "        ax.xaxis.set_label_text('')\n",
    "        ax.xaxis.set_minor_locator(mdates.DayLocator())\n",
    "        ax.set_xlim(xlim)\n",
    "        ax.set_ylim(ylim)\n",
    "        ax.legend(title=None, ncol=2)\n",
    "        filenames = []\n",
    "        fn_date = self.total_cases_figure_filename()\n",
    "        if fn_date:\n",
    "            filenames.append(fn_date)\n",
    "        fn_last = self.total_cases_figure_filename(last_modified=False)\n",
    "        if fn_last:\n",
    "            filenames.append(fn_last)\n",
    "        self.save_figure(filenames, show)"
   ]
  },
  {
   "cell_type": "code",
   "execution_count": null,
   "metadata": {},
   "outputs": [],
   "source": [
    "# func = lambda x, a, b: a * np.exp(b * x) \n",
    "# func_name = 'exp'\n",
    "\n",
    "func = lambda t, K, x, t0, b: K * np.power(t, x) * np.exp(-t / t0) + b\n",
    "func_name = 'power'\n",
    "\n",
    "def show_fit(series, func, func_name, title=None, pred=7, figsize=(10, 6), log=False, ax=None, window=None,\n",
    "             fit_color = 'tab:red', ma_color = 'tab:orange'):\n",
    "    x = np.arange(len(series))\n",
    "    with warnings.catch_warnings():\n",
    "        warnings.simplefilter(\"ignore\")\n",
    "        popt, pcov = curve_fit(func, x, series.values, p0=(1, 1, 5, 0), maxfev=5000)\n",
    "    index = pd.date_range(series.index.min(), periods=(len(series) + pred), freq='D')\n",
    "    y = func(np.arange(len(index)), *popt)\n",
    "    fit = pd.Series(y, index=index)\n",
    "    \n",
    "    err = np.sqrt(np.sum((fit[:-pred] - series) ** 2) / len(series))\n",
    "    print(f'Fit error: {err:.02f}')\n",
    "    \n",
    "    print(f'Predicted volume error: {1 - fit[:-pred].sum() / series.sum():.02%}')\n",
    "    \n",
    "    lw = 3\n",
    "    \n",
    "    if not ax:\n",
    "        fig, ax = plt.subplots(figsize=figsize)\n",
    "    ax.plot(index, y, label=f'{func_name} fit', color=fit_color, lw=lw)\n",
    "    ax.bar(series.index, series, label=series.name)\n",
    "    argmax = index[np.argmax(fit)]\n",
    "    ax.axvline(argmax, color=fit_color, lw=lw)\n",
    "    if window:\n",
    "        series_ma = series.rolling(window=window, center=True).mean()\n",
    "        ax.plot(series_ma.index, series_ma, label=f'media mobile ({window} giorni)', color=ma_color, lw=lw)\n",
    "    \n",
    "    locator = mdates.MonthLocator(interval=1)\n",
    "    ax.xaxis.set_major_locator(locator)\n",
    "    ax.xaxis.set_minor_locator(mdates.DayLocator(interval=1))\n",
    "    ax.xaxis.set_major_formatter(mdates.ConciseDateFormatter(locator))\n",
    "    ax.yaxis.grid(True, which='major')\n",
    "    if log:\n",
    "        ax.set_yscale('log')\n",
    "        ax.set_ylim((0.1, series.max() * 1.1))\n",
    "    else:\n",
    "        ax.set_ylim((0, None))\n",
    "    if title:\n",
    "        ax.set_title(title)\n",
    "    plt.legend(loc='upper left')\n",
    "    return popt, pcov, fit, argmax"
   ]
  },
  {
   "cell_type": "markdown",
   "metadata": {},
   "source": [
    "# Casi regionali"
   ]
  },
  {
   "cell_type": "code",
   "execution_count": null,
   "metadata": {},
   "outputs": [],
   "source": [
    "regional_ds = DataSet('dati-regioni/dpc-covid19-ita-regioni.csv')\n",
    "print(regional_ds)\n",
    "regional_ds.df[regional_ds.df['denominazione_regione'] == 'Lombardia'].tail(n=10)\n",
    "print(regional_ds.df['denominazione_regione'].unique())"
   ]
  },
  {
   "cell_type": "code",
   "execution_count": null,
   "metadata": {},
   "outputs": [],
   "source": [
    "national = DataSet('dati-andamento-nazionale/dpc-covid19-ita-andamento-nazionale.csv', resample=True)\n",
    "print(national)\n",
    "national.df.tail(n=10)"
   ]
  },
  {
   "cell_type": "code",
   "execution_count": null,
   "metadata": {},
   "outputs": [],
   "source": [
    "national_df = national.df.resample('D').last()\n",
    "national_df['deceduti'] = -national_df['deceduti']\n",
    "national_df['dimessi_guariti'] = -national_df['dimessi_guariti']\n",
    "show_cases(national_df, 1, title=f'Casi in Italia\\n'\n",
    "           f'(dati aggiornati: {national.last_modified:%d/%m/%Y %H:%M:%S})', figsize=(16, 10))\n",
    "plt.show()"
   ]
  },
  {
   "cell_type": "code",
   "execution_count": null,
   "metadata": {},
   "outputs": [],
   "source": [
    "days = 35\n",
    "fig, ax = plt.subplots(figsize=(16, 10))\n",
    "pos = national_df['totale_positivi']\n",
    "ax.plot(pos.index, pos, label=f'totale positivi', color='tab:blue', lw=2)\n",
    "\n",
    "def plot_rol(days, color, ls='-'):\n",
    "    rol = national_df['nuovi_positivi'].rolling(window=days).sum()\n",
    "    ax.plot(rol.index, rol, label=f'somma mobile ({days}g) positivi giornalieri', color=color, lw=2, ls=ls)\n",
    "\n",
    "plot_rol(35, 'tab:orange')\n",
    "plot_rol(14, 'tab:orange', '--')\n",
    "ax.legend()\n",
    "ax.set_title('Stima della durata della malattia a base di totale positivi / nuovi positivi giornalieri')\n",
    "ax.set_xlim(('2020-08-01', None))\n",
    "plt.show()"
   ]
  },
  {
   "cell_type": "code",
   "execution_count": null,
   "metadata": {},
   "outputs": [],
   "source": [
    "def showdiff(df, n=10):\n",
    "    return (df - df.shift()).tail(n=n)"
   ]
  },
  {
   "cell_type": "code",
   "execution_count": null,
   "metadata": {},
   "outputs": [],
   "source": [
    "national_df['totale_positivi'].tail(n=10)"
   ]
  },
  {
   "cell_type": "code",
   "execution_count": null,
   "metadata": {},
   "outputs": [],
   "source": [
    "showdiff(national_df['totale_positivi'])"
   ]
  },
  {
   "cell_type": "code",
   "execution_count": null,
   "metadata": {},
   "outputs": [],
   "source": [
    "national_df['totale_casi'].tail(n=10)"
   ]
  },
  {
   "cell_type": "code",
   "execution_count": null,
   "metadata": {},
   "outputs": [],
   "source": [
    "showdiff(national_df['totale_casi'])"
   ]
  },
  {
   "cell_type": "code",
   "execution_count": null,
   "metadata": {},
   "outputs": [],
   "source": [
    "-national_df['deceduti'].tail()"
   ]
  },
  {
   "cell_type": "code",
   "execution_count": null,
   "metadata": {},
   "outputs": [],
   "source": [
    "regional = Regional()\n",
    "regional.dataset.df[regional_ds.df['denominazione_regione'] == 'Lombardia'].tail()"
   ]
  },
  {
   "cell_type": "code",
   "execution_count": null,
   "metadata": {
    "scrolled": false
   },
   "outputs": [],
   "source": [
    "last_date = regional.dataset.df.index.max()\n",
    "regional.total_cases_figure(per_population=True, column='totale_positivi', \n",
    "                            diff=False, xlim=('2020-10-01', last_date.strftime('%Y-%m-%d')), window=1)\n",
    "plt.show()"
   ]
  },
  {
   "cell_type": "code",
   "execution_count": null,
   "metadata": {},
   "outputs": [],
   "source": [
    "window = 7\n",
    "case_last_date = (last_date - pd.Timedelta(days=window // 2)).strftime('%Y-%m-%d')\n",
    "regional.total_cases_figure(column='totale_casi', xlim=('2020-10-01', case_last_date), ylim=(0, None),\n",
    "                            diff=True, per_population=True, window=window)\n",
    "plt.show()"
   ]
  },
  {
   "cell_type": "code",
   "execution_count": null,
   "metadata": {
    "scrolled": false
   },
   "outputs": [],
   "source": [
    "regional.all_regions_cases_figure(show_regions=[\n",
    "    'Lombardia', 'Piemonte', 'Veneto', 'Sardegna', 'Lazio', 'Liguria', 'Umbria', \n",
    "    'Toscana', 'Emilia-Romagna', 'Puglia', 'Campania', 'Valle d\\'Aosta'], ylim=(-3000, 2000))"
   ]
  },
  {
   "cell_type": "code",
   "execution_count": null,
   "metadata": {},
   "outputs": [],
   "source": [
    "national_tot_df = national.df.copy()\n",
    "national_tot_df['deceduti'] = -national_tot_df['deceduti']\n",
    "national_tot_df['dimessi_guariti'] = -national_tot_df['dimessi_guariti']\n",
    "show_cases(national_tot_df, 1, title=f'Casi in Italia\\n(dati aggiornati: {national.last_modified:%d/%m/%Y %H:%M:%S})')\n",
    "plt.show()"
   ]
  },
  {
   "cell_type": "markdown",
   "metadata": {},
   "source": [
    "# Lombardia"
   ]
  },
  {
   "cell_type": "markdown",
   "metadata": {},
   "source": [
    "## Casi totali in Lombardia"
   ]
  },
  {
   "cell_type": "code",
   "execution_count": null,
   "metadata": {},
   "outputs": [],
   "source": [
    "mkdir -p figures/overview"
   ]
  },
  {
   "cell_type": "code",
   "execution_count": null,
   "metadata": {},
   "outputs": [],
   "source": [
    "from importlib import reload\n",
    "import ts_viz\n",
    "reload(ts_viz)\n",
    "from ts_viz import TimeSeriesViz, OverviewViz"
   ]
  },
  {
   "cell_type": "code",
   "execution_count": null,
   "metadata": {},
   "outputs": [],
   "source": [
    "def get_series(region, name):\n",
    "    region_df = regional_ds.df[regional_ds.df['denominazione_regione'] == region]\n",
    "    return region_df[name].resample('D').last()"
   ]
  },
  {
   "cell_type": "code",
   "execution_count": null,
   "metadata": {},
   "outputs": [],
   "source": [
    "lombardia_df = regional_ds.df[regional_ds.df['denominazione_regione'] == 'Lombardia']\n",
    "lombardia_overview_viz = OverviewViz('Lombardia', lombardia_df, regional_ds.last_modified, fig_folder='figures/overview')\n",
    "lombardia_overview_viz.show_overview()"
   ]
  },
  {
   "cell_type": "code",
   "execution_count": null,
   "metadata": {},
   "outputs": [],
   "source": [
    "showdiff(lombardia_df['deceduti'], n=10).astype(int)"
   ]
  },
  {
   "cell_type": "code",
   "execution_count": null,
   "metadata": {},
   "outputs": [],
   "source": [
    "showdiff(lombardia_df['totale_casi'], n=20).astype(int)"
   ]
  },
  {
   "cell_type": "code",
   "execution_count": null,
   "metadata": {},
   "outputs": [],
   "source": [
    "lombardia_df['totale_positivi'].plot()"
   ]
  },
  {
   "cell_type": "code",
   "execution_count": null,
   "metadata": {},
   "outputs": [],
   "source": [
    "lombardia_df['terapia_intensiva'].tail(n=10)"
   ]
  },
  {
   "cell_type": "code",
   "execution_count": null,
   "metadata": {},
   "outputs": [],
   "source": [
    "showdiff(lombardia_df['terapia_intensiva'])"
   ]
  },
  {
   "cell_type": "code",
   "execution_count": null,
   "metadata": {},
   "outputs": [],
   "source": [
    "lomb_casi_diff = lombardia_df['casi_testati'] - lombardia_df['casi_testati'].shift()\n",
    "lomb_tamp_diff = lombardia_df['tamponi'] - lombardia_df['tamponi'].shift()\n",
    "(lomb_tamp_diff / lomb_casi_diff).tail(n=10)"
   ]
  },
  {
   "cell_type": "code",
   "execution_count": null,
   "metadata": {},
   "outputs": [],
   "source": [
    "italia_df = national.df\n",
    "italia_overview_viz = OverviewViz('Italia', national.df, national.last_modified, fig_folder='figures/overview')\n",
    "italia_overview_viz.show_overview()"
   ]
  },
  {
   "cell_type": "code",
   "execution_count": null,
   "metadata": {},
   "outputs": [],
   "source": [
    "showdiff(italia_df['totale_casi'])"
   ]
  },
  {
   "cell_type": "code",
   "execution_count": null,
   "metadata": {},
   "outputs": [],
   "source": [
    "showdiff(italia_df['deceduti'])"
   ]
  },
  {
   "cell_type": "code",
   "execution_count": null,
   "metadata": {},
   "outputs": [],
   "source": [
    "italia_df['terapia_intensiva'].tail(n=10)"
   ]
  },
  {
   "cell_type": "code",
   "execution_count": null,
   "metadata": {},
   "outputs": [],
   "source": [
    "lombardia_active = get_series('Lombardia', 'totale_positivi')\n",
    "lombardia_active[-1] / lombardia_active[-14]"
   ]
  },
  {
   "cell_type": "code",
   "execution_count": null,
   "metadata": {},
   "outputs": [],
   "source": [
    "lombardia_totale = get_series('Lombardia', 'totale_casi')\n",
    "lombardia_totale.name = 'totali Lombardia'\n",
    "lombardia_totale_viz = TimeSeriesViz(series=lombardia_totale, last_modified=regional_ds.last_modified)\n",
    "lombardia_totale_viz.logger.setLevel(logging.INFO)\n",
    "lombardia_tamp = get_series('Lombardia', 'casi_testati')\n",
    "# lombardia_tamp = get_series('Lombardia', 'tamponi')"
   ]
  },
  {
   "cell_type": "code",
   "execution_count": null,
   "metadata": {},
   "outputs": [],
   "source": [
    "lombardia_totale.tail()"
   ]
  },
  {
   "cell_type": "code",
   "execution_count": null,
   "metadata": {},
   "outputs": [],
   "source": [
    "lombardia_tamp.tail().astype(int)"
   ]
  },
  {
   "cell_type": "code",
   "execution_count": null,
   "metadata": {},
   "outputs": [],
   "source": [
    "showdiff(lombardia_tamp)"
   ]
  },
  {
   "cell_type": "code",
   "execution_count": null,
   "metadata": {},
   "outputs": [],
   "source": [
    "lomb_tot_new = lombardia_totale - lombardia_totale.shift()\n",
    "lomb_tamp_new = lombardia_tamp - lombardia_tamp.shift()\n",
    "lomb_tamp_rate = lomb_tot_new / lomb_tamp_new"
   ]
  },
  {
   "cell_type": "code",
   "execution_count": null,
   "metadata": {},
   "outputs": [],
   "source": [
    "def tamp_rate(region, window=1, extend=False, ylim=(0, 100)):\n",
    "    tamp = get_series(region, 'casi_testati')\n",
    "#     tamp = get_series(region, 'tamponi')\n",
    "    tot = get_series(region, 'totale_casi')\n",
    "\n",
    "    tot_new = rolling_mean(tot - tot.shift(), window, extend=extend)\n",
    "    tamp_new = rolling_mean(tamp - tamp.shift(), window, extend=extend)\n",
    "    tamp_rate = tot_new / tamp_new * 100\n",
    "    \n",
    "    fig, ax = plt.subplots(figsize=(16, 10))\n",
    "    tamp_rate.plot()\n",
    "    ax.set_ylim(ylim)\n",
    "    ax.yaxis.set_major_formatter(ticker.PercentFormatter(decimals=0))\n",
    "    \n",
    "    ax.yaxis.grid(True, which='major')\n",
    "    ax.set_title(f'Percentuale positivi dei casi testati in {region}')\n",
    "    ax.set_xlim(('2020-09-01', None))\n",
    "    plt.show()\n",
    "    print(tamp_rate.tail(n=10))"
   ]
  },
  {
   "cell_type": "code",
   "execution_count": null,
   "metadata": {},
   "outputs": [],
   "source": [
    "tamp_rate('Lombardia', ylim=(0, 80))"
   ]
  },
  {
   "cell_type": "code",
   "execution_count": null,
   "metadata": {},
   "outputs": [],
   "source": [
    "tamp_rate('Veneto', window=1, ylim=(0, 100))"
   ]
  },
  {
   "cell_type": "code",
   "execution_count": null,
   "metadata": {},
   "outputs": [],
   "source": [
    "# tamp_rate('Sardegna')"
   ]
  },
  {
   "cell_type": "code",
   "execution_count": null,
   "metadata": {},
   "outputs": [],
   "source": [
    "# tamp_rate('Lazio')"
   ]
  },
  {
   "cell_type": "code",
   "execution_count": null,
   "metadata": {},
   "outputs": [],
   "source": [
    "# tamp_rate('Campania')"
   ]
  },
  {
   "cell_type": "code",
   "execution_count": null,
   "metadata": {},
   "outputs": [],
   "source": [
    "tamp_rate('Liguria')"
   ]
  },
  {
   "cell_type": "code",
   "execution_count": null,
   "metadata": {},
   "outputs": [],
   "source": [
    "# tamp_rate('Umbria', ylim=(0, 100))"
   ]
  },
  {
   "cell_type": "code",
   "execution_count": null,
   "metadata": {},
   "outputs": [],
   "source": [
    "# tamp_rate('Toscana')"
   ]
  },
  {
   "cell_type": "code",
   "execution_count": null,
   "metadata": {},
   "outputs": [],
   "source": [
    "tamp_rate('Emilia-Romagna')"
   ]
  },
  {
   "cell_type": "code",
   "execution_count": null,
   "metadata": {},
   "outputs": [],
   "source": [
    "tamp_rate('Valle d\\'Aosta', ylim=(0, 100))"
   ]
  },
  {
   "cell_type": "code",
   "execution_count": null,
   "metadata": {},
   "outputs": [],
   "source": [
    "# tamp_rate('Calabria', ylim=(0, 80))"
   ]
  },
  {
   "cell_type": "code",
   "execution_count": null,
   "metadata": {},
   "outputs": [],
   "source": [
    "# lombardia_totale_viz.show_series(title='Casi totali in Lombardia', save_fig=True, save_csv=True)"
   ]
  },
  {
   "cell_type": "code",
   "execution_count": null,
   "metadata": {},
   "outputs": [],
   "source": [
    "lombardia_totale_viz.show_new(title='Nuovi casi giornalieri in Lombardia')"
   ]
  },
  {
   "cell_type": "code",
   "execution_count": null,
   "metadata": {},
   "outputs": [],
   "source": [
    "(lombardia_totale_viz.series - lombardia_totale_viz.series.shift()).tail()"
   ]
  },
  {
   "cell_type": "code",
   "execution_count": null,
   "metadata": {
    "scrolled": false
   },
   "outputs": [],
   "source": [
    "from matplotlib.dates import date2num, datestr2num\n",
    "fig, ax = plt.subplots(figsize=(16, 10))\n",
    "lombardia_totale = get_series('Lombardia', 'totale_casi')\n",
    "# lombardia_tamp = get_series('Lombardia', 'tamponi')\n",
    "lombardia_tamp = get_series('Lombardia', 'casi_testati')\n",
    "\n",
    "diff_tot = (lombardia_totale - lombardia_totale.shift())\n",
    "diff_tamp = (lombardia_tamp - lombardia_tamp.shift())\n",
    "ax.bar(date2num(diff_tot.index) - 0.2, diff_tot, width=0.4, label='casi positivi')\n",
    "ax.bar(date2num(diff_tamp.index) + 0.2, diff_tamp, width=0.4, label='casi testati')\n",
    "ax.set_title('Nuovi casi giornalieri e numero tamponi giornalieri in Lombardia')\n",
    "ax.yaxis.grid(True, which='major')\n",
    "locator = mdates.WeekdayLocator(byweekday=mdates.MO)\n",
    "ax.xaxis.set_major_locator(locator)\n",
    "ax.xaxis.set_minor_locator(mdates.DayLocator(interval=1))\n",
    "ax.xaxis.set_major_formatter(mdates.ConciseDateFormatter(locator))\n",
    "ax.set_ylim(0, None)\n",
    "ax.legend()\n",
    "ax.set_xlim((datestr2num('2020-10-01'), date2num(diff_tot.index + pd.Timedelta(days=0.5)).max()))\n",
    "plt.show()"
   ]
  },
  {
   "cell_type": "code",
   "execution_count": null,
   "metadata": {},
   "outputs": [],
   "source": [
    "showdiff(lombardia_tamp)"
   ]
  },
  {
   "cell_type": "code",
   "execution_count": null,
   "metadata": {},
   "outputs": [],
   "source": [
    "data = {\n",
    "    'diff_tamp': diff_tamp,\n",
    "    'diff_tot': diff_tot,\n",
    "    'tamp_for_last': diff_tamp / diff_tamp[-1],\n",
    "    'norm_tamp': (diff_tot / (diff_tamp / diff_tamp[-1])),\n",
    "    'tamp_rate': diff_tamp / diff_tot,\n",
    "    'pos_rate': (diff_tot / diff_tamp).apply('{:.0%}'.format)\n",
    "}\n",
    "pd.DataFrame(data).tail(n=10)"
   ]
  },
  {
   "cell_type": "code",
   "execution_count": null,
   "metadata": {},
   "outputs": [],
   "source": [
    "title = 'Nuovi casi giornalieri in Lombardia, normalizzata al numero dei tamponi'\n",
    "sma = 7\n",
    "fig, ax = TimeSeriesViz.config_axis(figsize=(16, 10), xgrid=False, title=title)\n",
    "norm_tamp = diff_tot / (diff_tamp / diff_tamp[-1])\n",
    "ax.bar(norm_tamp.index, norm_tamp, label='casi')\n",
    "\n",
    "norm_tamp_sma = norm_tamp.rolling(sma, center=True).mean()\n",
    "ax.plot(norm_tamp_sma.index, norm_tamp_sma, color='tab:red', lw=2, label=f'media mobile ({sma} giorni)')\n",
    "\n",
    "valid_index = norm_tamp[~norm_tamp.isna()].index\n",
    "ax.set_xlim((valid_index.min() + pd.Timedelta(days=.5), valid_index.max() + pd.Timedelta(days=.5)))\n",
    "# ax.get_yaxis().set_visible(False)\n",
    "ax.set_ylim((0, None))\n",
    "ax.set_xlim(('2020-09-01', None))\n",
    "locator = mdates.MonthLocator(interval=1)\n",
    "ax.xaxis.set_major_locator(locator)\n",
    "ax.xaxis.set_minor_locator(mdates.DayLocator(interval=1))\n",
    "ax.xaxis.set_major_formatter(mdates.ConciseDateFormatter(locator))\n",
    "ax.legend(loc='upper left')\n",
    "plt.show()"
   ]
  },
  {
   "cell_type": "code",
   "execution_count": null,
   "metadata": {},
   "outputs": [],
   "source": [
    "diff_tot.tail()"
   ]
  },
  {
   "cell_type": "code",
   "execution_count": null,
   "metadata": {},
   "outputs": [],
   "source": [
    "# fig, ax = plt.subplots(figsize=(16, 10))\n",
    "# norm_sum = norm_tamp.expanding().sum()\n",
    "# ax = norm_sum.plot()\n",
    "# ax.set_xlim(('2020-04-15', None))\n",
    "# plt.show()"
   ]
  },
  {
   "cell_type": "code",
   "execution_count": null,
   "metadata": {},
   "outputs": [],
   "source": [
    "# lombardia_totale_viz.show_growth_factor(title='Tasso di crescita per i casi totali in Lombardia', \n",
    "#                                         raw=True, sma=False, ema=True, save_fig=True, save_csv=True, window=7, ylim=(0, 3))"
   ]
  },
  {
   "cell_type": "markdown",
   "metadata": {},
   "source": [
    "## Casi decessi in Lombardia"
   ]
  },
  {
   "cell_type": "code",
   "execution_count": null,
   "metadata": {},
   "outputs": [],
   "source": [
    "lombardia_deaths = regional_ds.df[regional_ds.df['denominazione_regione'] == 'Lombardia']['deceduti'].resample('D').last()\n",
    "lombardia_deaths.name = 'deceduti Lombardia'\n",
    "lombardia_deaths_viz = TimeSeriesViz(series=lombardia_deaths, last_modified=regional_ds.last_modified)\n",
    "lombardia_deaths_viz.logger.setLevel(logging.INFO)"
   ]
  },
  {
   "cell_type": "code",
   "execution_count": null,
   "metadata": {},
   "outputs": [],
   "source": [
    "lombardia_deaths_viz.show_series(title='Casi deceduti in Lombardia')"
   ]
  },
  {
   "cell_type": "code",
   "execution_count": null,
   "metadata": {},
   "outputs": [],
   "source": [
    "fig, ax = lombardia_deaths_viz.show_new(title='Nuovi casi deceduti in Lombardia')\n",
    "ax.set_xlim(('2020-09-01', None))\n",
    "ax.set_ylim((0, 225))\n",
    "plt.show()"
   ]
  },
  {
   "cell_type": "code",
   "execution_count": null,
   "metadata": {},
   "outputs": [],
   "source": [
    "# lomb_death = lombardia_deaths_viz.series - lombardia_deaths_viz.series.shift()\n",
    "# lomb_death[lomb_death >= lomb_death[-1]].tail(n=10)"
   ]
  },
  {
   "cell_type": "code",
   "execution_count": null,
   "metadata": {
    "scrolled": true
   },
   "outputs": [],
   "source": [
    "showdiff(lombardia_deaths_viz.series, n=10).astype(int)"
   ]
  },
  {
   "cell_type": "code",
   "execution_count": null,
   "metadata": {},
   "outputs": [],
   "source": [
    "lombardia_ti = get_series('Lombardia', 'terapia_intensiva')"
   ]
  },
  {
   "cell_type": "code",
   "execution_count": null,
   "metadata": {},
   "outputs": [],
   "source": [
    "window = 7\n",
    "fig, ax = TimeSeriesViz.config_axis(figsize=(16, 10), xgrid=False, title=title)\n",
    "norm_tamp = (diff_tot / (diff_tamp / diff_tamp.mean()))['2020-02-01':]\n",
    "norm_tamp = rolling_mean(norm_tamp, window, extend=False)\n",
    "color = 'tab:blue'\n",
    "ax.plot(norm_tamp.index, norm_tamp, color=color, label='nuovi casi giornalieri, ponderata ai tamponi', lw=2)\n",
    "ax.set_xlim((norm_tamp.index.min() + pd.Timedelta(days=.5), norm_tamp.index.max() + pd.Timedelta(days=.5)))\n",
    "ax.set_ylabel('nuovi casi in Lombardia (ponderata al numero dei tamponi)', color=color)\n",
    "ax.tick_params(axis='y', labelcolor=color)\n",
    "ax.set_ylim((0, None))\n",
    "lombardia_deaths_diff = lombardia_deaths - lombardia_deaths.shift()\n",
    "lombardia_deaths_diff = rolling_mean(lombardia_deaths_diff, window, extend=False)\n",
    "ltid = lombardia_ti - lombardia_ti.shift()\n",
    "ltid = rolling_mean(ltid, window, extend=False)\n",
    "ltids = ltid.shift(-6)\n",
    "sh = -6\n",
    "ldds = lombardia_deaths_diff.shift(sh)\n",
    "ax2 = ax.twinx()\n",
    "color = 'tab:red'\n",
    "ax2.plot(ldds.index, ldds, color=color, label='deceduti', lw=2)\n",
    "ax2.plot(ltids.index, ltids, color='tab:orange', label='terapia intensiva', lw=2)\n",
    "ax2.set_ylabel(f'nuovi decessi e casi in TI in Lombardia (spostato {sh} giorni)', color=color)\n",
    "ax2.tick_params(axis='y', labelcolor=color)\n",
    "ax2.set_ylim((0, None))\n",
    "ax.set_title(f'Nuovi casi (ponderata al numero dei tamponi) e decessi (spostato {sh} giorni) in Lombardia')\n",
    "locator = mdates.DayLocator(interval=7)\n",
    "ax.xaxis.set_major_locator(locator)\n",
    "ax.xaxis.set_major_formatter(mdates.ConciseDateFormatter(locator))\n",
    "ax.xaxis.grid(True, which='major')\n",
    "ax.set_xlim(('2020-02-01', None))\n",
    "ax.set_ylim(0, 5000)\n",
    "ax2.set_ylim(0, 200)\n",
    "plt.legend(loc='upper left')\n",
    "plt.show()"
   ]
  },
  {
   "cell_type": "code",
   "execution_count": null,
   "metadata": {},
   "outputs": [],
   "source": [
    "showdiff(national.df['deceduti'])"
   ]
  },
  {
   "cell_type": "code",
   "execution_count": null,
   "metadata": {},
   "outputs": [],
   "source": [
    "get_series('Lombardia', 'totale_casi').tail()"
   ]
  },
  {
   "cell_type": "code",
   "execution_count": null,
   "metadata": {},
   "outputs": [],
   "source": [
    "get_series('Lombardia', 'deceduti').tail()"
   ]
  },
  {
   "cell_type": "code",
   "execution_count": null,
   "metadata": {},
   "outputs": [],
   "source": [
    "coefs = {}"
   ]
  },
  {
   "cell_type": "code",
   "execution_count": null,
   "metadata": {},
   "outputs": [],
   "source": [
    "import warnings\n",
    "\n",
    "# region = 'Lombardia'\n",
    "# lombardia_deaths = get_series(region, 'deceduti')\n",
    "\n",
    "# observed = (lombardia_deaths - lombardia_deaths.shift())[1:]\n",
    "\n",
    "# popt, pcov, fit = show_fit(observed, func, func_name, figsize=(16, 10), pred=30, \n",
    "#                            title=f'Nuovi deceduti giornalieri in {region} + {func_name} '\n",
    "#                                  f'fit\\n$n(t)=Kt^{{x}}e^{{-t/t_0}}$')\n",
    "# # popt, pcov, ymax = fit_curve(observed, func, func_name, pred=7)\n",
    "# K, x, t0 = popt\n",
    "# coefs['Lombardia deceduti'] = popt\n",
    "# print(f'{region}: K = {K:.08f}, x = {x:.02f}, t0 = {t0:.02f}')\n",
    "# print(f'first day: {observed.index[0]:%Y-%m-%d}')\n",
    "# print(f'peak as of fit: {fit.index[np.argmax(fit)]:%Y-%m-%d}')"
   ]
  },
  {
   "cell_type": "code",
   "execution_count": null,
   "metadata": {},
   "outputs": [],
   "source": [
    "from scipy.optimize import curve_fit\n",
    "from matplotlib import cm\n",
    "import numpy as np\n",
    "\n",
    "func = lambda t, K, x, t0, b: K * np.power(t, x) * np.exp(-t / t0) + b\n",
    "func_name = 'power'\n",
    "\n",
    "# func = lambda x, a, b: a * np.exp(b * x) \n",
    "\n",
    "def fit_curves(series, func, name, lookback=8, cmap='Reds'):\n",
    "    colormap = cm.get_cmap(cmap)\n",
    "\n",
    "    for i in range(0, lookback + 1):\n",
    "        to_fit = series[:-i] if i > 0 else series\n",
    "        x = np.arange(len(to_fit))\n",
    "        popt, pcov = curve_fit(func, x, to_fit.values)\n",
    "        plt.plot(series.index, func(np.arange(len(series)), *popt), \n",
    "                 label=f'{name} fit -{i} days', c=colormap(i/lookback))\n",
    "\n",
    "# fig, ax = plt.subplots(figsize=(10, 6))\n",
    "\n",
    "# fit_curves(lombardia_deaths, func, func_name, lookback=12, cmap='winter')\n",
    "# # plt.plot(lombardia_deaths.index, lombardia_deaths.values)\n",
    "# ax = lombardia_deaths.plot(c='r', lw=3)\n",
    "# ax.set_title(f'Decessi in Lombardia + {func_name} fit')\n",
    "# plt.legend()"
   ]
  },
  {
   "cell_type": "code",
   "execution_count": null,
   "metadata": {},
   "outputs": [],
   "source": [
    "# lomb_diff = (lombardia_totale - lombardia_totale.shift())[1:]\n",
    "# fig, ax = plt.subplots(figsize=(10, 6))\n",
    "# fit_curves(lomb_diff, func, func_name, cmap='winter')\n",
    "# plt.bar(lombardia_totale.index, lombardia_totale.values)\n",
    "# ax.set_title('Casi totali in Lombardia + exp fit')\n",
    "# plt.legend()"
   ]
  },
  {
   "cell_type": "code",
   "execution_count": null,
   "metadata": {},
   "outputs": [],
   "source": [
    "def get_normalized_new(region, start_day=None):\n",
    "    total = get_series(region, 'totale_casi')\n",
    "    tests = get_series(region, 'casi_testati')\n",
    "#     tests = get_series(region, 'tamponi')\n",
    "    diff_total = (total - total.shift())\n",
    "    diff_tests = (tests - tests.shift())\n",
    "    normalized_total = (diff_total / (diff_tests / diff_tests[-1]))[1:]\n",
    "    if start_day:\n",
    "        normalized_total = normalized_total[start_day:]\n",
    "    return normalized_total\n",
    "\n",
    "region = 'Lombardia'\n",
    "normalized_new = get_normalized_new(region, start_day='2020-09-01')\n",
    "# normalized_new -= 500\n",
    "# normalized_new['2020-02-27'] = (normalized_new['2020-02-25'] + normalized_new['2020-02-28']) / 2\n",
    "# normalized_new['2020-02-26'] = (normalized_new['2020-02-25'] + normalized_new['2020-02-27']) / 2\n",
    "# normalized_new['2020-03-05'] = (normalized_new['2020-03-04'] + normalized_new['2020-03-06']) / 2\n",
    "# normalized_new['2020-03-09'] = (normalized_new['2020-03-08'] + normalized_new['2020-03-10']) / 2\n",
    "normalized_new.name = 'Nuovi casi giornalieri ponderati ai casi testati'\n",
    "popt, pcov, fit, argmax = show_fit(normalized_new, func, func_name, pred=15, figsize=(16, 10),\n",
    "                                   title=f'{normalized_new.name} in {region} + {func_name} fit\\n'\n",
    "                                         f'$n(t)=Kt^{{x}}e^{{-t/t_0}}+b$', \n",
    "                                   window=7, ma_color='tab:orange')\n",
    "K, x, t0, b = popt\n",
    "coefs['Lombardia casi_norm'] = popt\n",
    "print(f'{region}: K = {K:.08f}, x = {x:.02f}, t0 = {t0:.02f}, b = {b:.02f}')\n",
    "print(f'first day: {normalized_new.index[0]:%Y-%m-%d}')\n",
    "print(f'peak as of fit: {argmax:%Y-%m-%d}')\n",
    "popt"
   ]
  },
  {
   "cell_type": "code",
   "execution_count": null,
   "metadata": {},
   "outputs": [],
   "source": [
    "tests = get_series(region, 'casi_testati')\n",
    "tests_diff = tests - tests.shift()\n",
    "tamp = get_series(region, 'tamponi')\n",
    "tamp_diff = tamp - tamp.shift()\n",
    "(tests_diff/tamp_diff).rolling(window=7).mean()['2020-05-15':].plot(figsize=(16, 10))\n",
    "plt.title(f'Percentuale dei nuovi casi testati tra i tamponi in {region}')"
   ]
  },
  {
   "cell_type": "code",
   "execution_count": null,
   "metadata": {},
   "outputs": [],
   "source": [
    "region = 'Veneto'\n",
    "# veneto_deaths = get_series(region, 'deceduti')\n",
    "\n",
    "# fig, ax = plt.subplots(figsize=(16, 10))\n",
    "# observed = (veneto_deaths - veneto_deaths.shift())[4:]\n",
    "# popt, pcov, y = show_fit(observed, func, func_name, title=f'Nuovi deceduti giornalieri in {region} + {func_name} fit', ax=ax)\n",
    "# ax.set_ylim((0, 50))\n",
    "# K, x, t0 = popt\n",
    "# coefs['Veneto deceduti'] = popt\n",
    "# print(f'{region}: K = {K:.08f}, x = {x:.02f}, t0 = {t0:.02f}')\n",
    "# print(f'first day: {observed.index[0]:%Y-%m-%d}')\n",
    "# print(f'peak as of fit: {observed.index[np.argmax(y)]:%Y-%m-%d}')"
   ]
  },
  {
   "cell_type": "code",
   "execution_count": null,
   "metadata": {},
   "outputs": [],
   "source": [
    "region = 'Veneto'\n",
    "normalized_new = get_normalized_new(region, start_day='2020-09-01')\n",
    "# normalized_new['2020-03-09'] = (normalized_new['2020-03-08'] + normalized_new['2020-03-10']) / 2\n",
    "# normalized_new['2020-03-17'] = (normalized_new['2020-03-16'] + normalized_new['2020-03-18']) / 2\n",
    "fig, ax = plt.subplots(figsize=(16, 10))\n",
    "normalized_new.name = 'nuovi casi ponderati ai tamponi'\n",
    "popt, pcov, fit, argmax = show_fit(normalized_new, func, func_name, ax=ax, pred=30,\n",
    "                                   title=f'Nuovi casi normalizzati giornalieri in {region} + {func_name} '\n",
    "                                         f'fit\\n$n(t)=Kt^{{x}}e^{{-t/t_0}}+b$', window=14)\n",
    "ax.set_ylim((0, 5000))\n",
    "K, x, t0, b = popt\n",
    "coefs['Veneto casi_norm'] = popt\n",
    "print(f'{region}: K = {K:.08f}, x = {x:.02f}, t0 = {t0:.02f}, b = {b:.02f}')\n",
    "print(f'first day: {normalized_new.index[0]:%Y-%m-%d}')\n",
    "print(f'peak as of fit: {argmax:%Y-%m-%d}')"
   ]
  },
  {
   "cell_type": "code",
   "execution_count": null,
   "metadata": {},
   "outputs": [],
   "source": [
    "region = 'Piemonte'\n",
    "# veneto_deaths = get_series(region, 'deceduti')\n",
    "\n",
    "# observed = (veneto_deaths - veneto_deaths.shift())[4:]\n",
    "# popt, pcov, y = show_fit(observed, func, func_name, title=f'Nuovi deceduti giornalieri in {region} + {func_name} fit')\n",
    "# K, x, t0 = popt\n",
    "# coefs['Piemonte deceduti'] = popt\n",
    "# print(f'{region}: K = {K:.08f}, x = {x:.02f}, t0 = {t0:.02f}')\n",
    "# print(f'first day: {observed.index[0]:%Y-%m-%d}')\n",
    "# # print(f'peak as of fit: {observed.index[np.argmax(y)]:%Y-%m-%d}')"
   ]
  },
  {
   "cell_type": "code",
   "execution_count": null,
   "metadata": {},
   "outputs": [],
   "source": [
    "region = 'Piemonte'\n",
    "normalized_new = get_normalized_new(region, start_day='2020-09-01')\n",
    "# normalized_new = normalized_new[3:]\n",
    "# normalized_new['2020-03-05'] = (normalized_new['2020-03-04'] + normalized_new['2020-03-06']) / 2\n",
    "# normalized_new['2020-03-13'] = (normalized_new['2020-03-13'] + normalized_new['2020-03-14']) / 2\n",
    "# normalized_new['2020-03-09'] = 0\n",
    "fig, ax = plt.subplots(figsize=(16, 10))\n",
    "normalized_new.name = 'nuovi casi ponderati ai tamponi'\n",
    "\n",
    "casi = get_series(region, 'totale_casi')\n",
    "observed = (casi - casi.shift())[1:].clip(0, np.inf)\n",
    "\n",
    "popt, pcov, fit, argmax = show_fit(normalized_new, func, func_name, ax=ax, pred=30,\n",
    "                                   title=f'Nuovi casi giornalieri in {region} + {func_name} '\n",
    "                                         f'fit\\n$n(t)=Kt^{{x}}e^{{-t/t_0}}+b$', window=14, ma_color='tab:orange')\n",
    "K, x, t0, b = popt\n",
    "coefs['Piemonte casi_norm'] = popt\n",
    "print(f'{region}: K = {K:.08f}, x = {x:.02f}, t0 = {t0:.02f}, b = {b:.02f}')\n",
    "print(f'first day: {normalized_new.index[0]:%Y-%m-%d}')\n",
    "print(f'peak as of fit: {argmax:%Y-%m-%d}')"
   ]
  },
  {
   "cell_type": "code",
   "execution_count": null,
   "metadata": {},
   "outputs": [],
   "source": [
    "region = 'Emilia-Romagna'\n",
    "# deaths = get_series(region, 'deceduti')\n",
    "\n",
    "# observed = (deaths - deaths.shift())[1:]\n",
    "# popt, pcov, y = show_fit(observed, func, func_name, title=f'Nuovi deceduti giornalieri in {region} + {func_name} fit')\n",
    "# K, x, t0 = popt\n",
    "# coefs['Emilia-Romagna deceduti'] = popt\n",
    "# print(f'{region}: K = {K:.08f}, x = {x:.02f}, t0 = {t0:.02f}')\n",
    "# print(f'first day: {observed.index[0]:%Y-%m-%d}')\n",
    "# print(f'peak as of fit: {observed.index[np.argmax(y)]:%Y-%m-%d}')"
   ]
  },
  {
   "cell_type": "code",
   "execution_count": null,
   "metadata": {},
   "outputs": [],
   "source": [
    "normalized_new = get_normalized_new(region, start_day='2020-10-01')\n",
    "# normalized_new['2020-03-03'] = (normalized_new['2020-03-02'] + normalized_new['2020-03-04']) / 2\n",
    "# normalized_new['2020-03-29'] = (normalized_new['2020-03-28'] + normalized_new['2020-03-30']) / 2\n",
    "# normalized_new['2020-03-30'] = (normalized_new['2020-03-29'] + normalized_new['2020-03-31']) / 2\n",
    "# normalized_new = normalized_new.clip(0)\n",
    "normalized_new.name = 'nuovi casi ponderati ai tamponi'\n",
    "fig, ax = plt.subplots(figsize=(16, 10))\n",
    "popt, pcov, fit, argmax = show_fit(normalized_new, func, func_name, ax=ax,\n",
    "                                   title=f'Nuovi casi normalizzati giornalieri in {region} + '\n",
    "                                         f'{func_name} fit\\n$n(t)=Kt^{{x}}e^{{-t/t_0}}+b$', window=7, pred=30)\n",
    "K, x, t0, b = popt\n",
    "coefs['Emilia-Romagna casi_norm'] = popt\n",
    "print(f'{region}: K = {K:.08f}, x = {x:.02f}, t0 = {t0:.02f}')\n",
    "print(f'first day: {normalized_new.index[0]:%Y-%m-%d}')\n",
    "print(f'peak as of fit: {argmax:%Y-%m-%d}')"
   ]
  },
  {
   "cell_type": "code",
   "execution_count": null,
   "metadata": {},
   "outputs": [],
   "source": [
    "# casi = get_series(region, 'totale_casi')\n",
    "\n",
    "# observed = (casi - casi.shift())[1:]\n",
    "# popt, pcov, y = show_fit(observed, func, func_name, title=f'Nuovi casi giornalieri in {region} + {func_name} fit')\n",
    "# K, x, t0 = popt\n",
    "# print(f'{region}: K = {K:.08f}, x = {x:.02f}, t0 = {t0:.02f}')\n",
    "# print(f'first day: {observed.index[0]:%Y-%m-%d}')\n",
    "# print(f'peak as of fit: {observed.index[np.argmax(y)]:%Y-%m-%d}')"
   ]
  },
  {
   "cell_type": "code",
   "execution_count": null,
   "metadata": {},
   "outputs": [],
   "source": [
    "# region = 'Puglia'\n",
    "# deaths = get_series(region, 'deceduti')\n",
    "\n",
    "# observed = (deaths - deaths.shift())[14:]\n",
    "# popt, pcov, y = show_fit(observed, func, func_name, title=f'Nuovi deceduti giornalieri in {region} + {func_name} fit')\n",
    "# K, x, t0 = popt\n",
    "# coefs['Puglia deceduti'] = popt\n",
    "# print(f'{region}: K = {K:.08f}, x = {x:.02f}, t0 = {t0:.02f}')\n",
    "# print(f'first day: {observed.index[0]:%Y-%m-%d}')\n",
    "# print(f'peak as of fit: {observed.index[np.argmax(y)]:%Y-%m-%d}')"
   ]
  },
  {
   "cell_type": "code",
   "execution_count": null,
   "metadata": {},
   "outputs": [],
   "source": [
    "# casi = get_series(region, 'totale_casi')\n",
    "\n",
    "# observed = (casi - casi.shift())[1:]\n",
    "# popt, pcov, y = show_fit(observed, func, func_name, title=f'Nuovi casi giornalieri in {region} + {func_name} fit')\n",
    "# K, x, t0 = popt\n",
    "# print(f'{region}: K = {K:.08f}, x = {x:.02f}, t0 = {t0:.02f}')\n",
    "# print(f'first day: {observed.index[0]:%Y-%m-%d}')\n",
    "# print(f'peak as of fit: {observed.index[np.argmax(y)]:%Y-%m-%d}')"
   ]
  },
  {
   "cell_type": "code",
   "execution_count": null,
   "metadata": {},
   "outputs": [],
   "source": [
    "# coefs_df = pd.DataFrame.from_records(coefs).T\n",
    "# coefs_df.columns = ['K', 'x', 't0']\n",
    "# coefs_df[coefs_df.index.to_series().str.endswith('casi_norm')]"
   ]
  },
  {
   "cell_type": "code",
   "execution_count": null,
   "metadata": {},
   "outputs": [],
   "source": [
    "# lombardia_deaths_viz.show_growth_factor(title='Tasso di crescita dei casi deceduti in Lombardia', \n",
    "#                                         sma=False, save_fig=True, save_csv=True, ylim=(0, 2))"
   ]
  },
  {
   "cell_type": "markdown",
   "metadata": {},
   "source": [
    "## Casi in terapia intensiva in Lombardia"
   ]
  },
  {
   "cell_type": "code",
   "execution_count": null,
   "metadata": {},
   "outputs": [],
   "source": [
    "# lombardia_ti = regional_ds.df[regional_ds.df['denominazione_regione'] == 'Lombardia']['terapia_intensiva'].resample('D').last()\n",
    "lombardia_ti.name = 'ti Lombardia'\n",
    "lombardia_ti_viz = TimeSeriesViz(series=lombardia_ti, last_modified=regional_ds.last_modified)\n",
    "lombardia_ti_viz.logger.setLevel(logging.INFO)"
   ]
  },
  {
   "cell_type": "code",
   "execution_count": null,
   "metadata": {},
   "outputs": [],
   "source": [
    "fig, ax = lombardia_ti_viz.show_series(title='Casi in terapia intensiva in Lombardia')\n",
    "# ax.set_xlim(('2020-09-01', None))\n",
    "# ax.set_ylim((0, 2000))"
   ]
  },
  {
   "cell_type": "code",
   "execution_count": null,
   "metadata": {},
   "outputs": [],
   "source": [
    "popt, pcov, fit, argmax = show_fit(lombardia_ti_viz.series['2020-09-15':], func, func_name, pred=60, \n",
    "                                   figsize=(16,10))\n",
    "print('Peak as of fit:', argmax)\n",
    "td = (argmax - pd.Timestamp('2020-09-15')).days\n",
    "print('Peak value:', int(func(td, *popt)))\n",
    "plt.title('Totale casi in terapia intensiva in Lombardia + power fit')\n",
    "plt.show()"
   ]
  },
  {
   "cell_type": "code",
   "execution_count": null,
   "metadata": {},
   "outputs": [],
   "source": [
    "lombardia_ti_viz.show_new(title='Nuovi casi in terapia intensiva in Lombardia')"
   ]
  },
  {
   "cell_type": "code",
   "execution_count": null,
   "metadata": {},
   "outputs": [],
   "source": [
    "print('Nuovi casi giornalieri in TI in Lombardia:')\n",
    "showdiff(lombardia_ti_viz.series).astype(int).to_frame()"
   ]
  },
  {
   "cell_type": "code",
   "execution_count": null,
   "metadata": {},
   "outputs": [],
   "source": [
    "print('Totale casi in TI in Lombardia:')\n",
    "lombardia_ti_viz.series.to_frame().tail(n=10)"
   ]
  },
  {
   "cell_type": "code",
   "execution_count": null,
   "metadata": {},
   "outputs": [],
   "source": [
    "lombardia_osp = regional_ds.df[regional_ds.df['denominazione_regione'] == 'Lombardia']['totale_ospedalizzati'].resample('D').last()\n",
    "lombardia_osp.name = 'ospedalizzati Lombardia'\n",
    "lombardia_osp_viz = TimeSeriesViz(series=lombardia_osp['2020--01':], last_modified=regional_ds.last_modified)\n",
    "lombardia_osp_viz.logger.setLevel(logging.INFO)"
   ]
  },
  {
   "cell_type": "code",
   "execution_count": null,
   "metadata": {},
   "outputs": [],
   "source": [
    "lombardia_osp_viz.show_series(title='Casi ospedalizzati in Lombardia')"
   ]
  },
  {
   "cell_type": "code",
   "execution_count": null,
   "metadata": {},
   "outputs": [],
   "source": [
    "print('Casi ospedalizzati in Lombardia:')\n",
    "lombardia_osp_viz.series.tail(n=10)"
   ]
  },
  {
   "cell_type": "code",
   "execution_count": null,
   "metadata": {},
   "outputs": [],
   "source": [
    "print('Nuovi casi giornalieri ospedalizzati in Lombardia:')\n",
    "showdiff(lombardia_osp_viz.series, n=10).astype(int).to_frame()"
   ]
  },
  {
   "cell_type": "code",
   "execution_count": null,
   "metadata": {},
   "outputs": [],
   "source": [
    "lombardia_osp_viz.show_new(title='Nuovi casi ospedalizzati in Lombardia')"
   ]
  },
  {
   "cell_type": "markdown",
   "metadata": {},
   "source": [
    "# Dati delle province"
   ]
  },
  {
   "cell_type": "code",
   "execution_count": null,
   "metadata": {},
   "outputs": [],
   "source": [
    "%load_ext autoreload\n",
    "%autoreload 2"
   ]
  },
  {
   "cell_type": "code",
   "execution_count": null,
   "metadata": {},
   "outputs": [],
   "source": [
    "provinces_ds = DataSet('dati-province/dpc-covid19-ita-province.csv')\n",
    "\n",
    "def province_viz(provinces_ds, province_name):\n",
    "    province_df = provinces_ds.df[provinces_ds.df['denominazione_provincia'] == province_name]\n",
    "    province_tot = province_df['totale_casi'].resample('D').last()\n",
    "    province_tot.name = province_name\n",
    "    province_tot_viz = TimeSeriesViz(series=province_tot, last_modified=provinces_ds.last_modified)\n",
    "    return province_tot_viz\n",
    "\n",
    "def province_active_viz(provinces_ds, province_name, lookback=35):\n",
    "    province_df = provinces_ds.df[provinces_ds.df['denominazione_provincia'] == province_name]\n",
    "    province_tot = province_df['totale_casi'].resample('D').last()\n",
    "    province_active = province_tot - province_tot.shift(lookback)\n",
    "    province_active.name = province_name\n",
    "    province_active_viz = TimeSeriesViz(series=province_active, last_modified=provinces_ds.last_modified)\n",
    "    return province_active_viz"
   ]
  },
  {
   "cell_type": "code",
   "execution_count": null,
   "metadata": {},
   "outputs": [],
   "source": [
    "provinces_ds.df"
   ]
  },
  {
   "cell_type": "code",
   "execution_count": null,
   "metadata": {},
   "outputs": [],
   "source": [
    "province_df = provinces_ds.df\n",
    "province_df[province_df['denominazione_regione'] == 'Lombardia']['denominazione_provincia'].unique()"
   ]
  },
  {
   "cell_type": "code",
   "execution_count": null,
   "metadata": {},
   "outputs": [],
   "source": [
    "df_pop_raw = pd.read_csv('data/popolazione_province_2019.csv')\n",
    "df_pop_raw = df_pop_raw[['ITTER107', 'Territorio', 'Value']]\n",
    "df_pop = df_pop_raw[df_pop_raw['ITTER107'].str.len() == 5]"
   ]
  },
  {
   "cell_type": "code",
   "execution_count": null,
   "metadata": {},
   "outputs": [],
   "source": [
    "def show_gr_prev(province_df, df_pop, region=False, gr_days=7, ms=10, show_trait=1, \n",
    "                 prevalence_nom = 100000, figsize=(16, 10), xlim=(None, None), ylim=(None, None)):\n",
    "    region_df = province_df[province_df['denominazione_regione'] == region] if region else province_df\n",
    "    provinces = region_df['denominazione_provincia'].unique()\n",
    "    provinces = [p for p in provinces if not p.startswith('In fase di')]\n",
    "    fig, ax = plt.subplots(figsize=figsize)\n",
    "\n",
    "    region_pop = 0\n",
    "    for province in provinces:\n",
    "        data = province_df[province_df['denominazione_provincia'] == province]\n",
    "        pop = df_pop[df_pop['Territorio'] == province]['Value'].sum()\n",
    "        region_pop += pop\n",
    "        cases = data['totale_casi']\n",
    "        active_cases = cases - cases.shift(35)\n",
    "        active_start = active_cases.shift(gr_days)\n",
    "        growth_rate = (((active_cases - active_start) / active_start) * 100)\n",
    "        prevalence = ((active_cases / pop) * prevalence_nom)\n",
    "        province_plot = ax.plot(prevalence[-show_trait:], growth_rate[-show_trait:], \n",
    "                                marker='o', linestyle='-', ms=ms, label=province)\n",
    "        province_color = province_plot[0].get_color()\n",
    "        ax.annotate(province, (prevalence[-1], growth_rate[-1]), xytext=(ms/2, ms/2), textcoords='offset points', \n",
    "                    color=province_color, size=13)\n",
    "\n",
    "    if region:\n",
    "        region_data = region_df.groupby(region_df.index).sum()\n",
    "        region_cases = region_data['totale_casi']\n",
    "        active_cases = region_cases - region_cases.shift(35)\n",
    "        active_start = active_cases.shift(gr_days)\n",
    "        region_gr = (((active_cases - active_start) / active_start) * 100)\n",
    "        region_prevalence = ((active_cases / region_pop) * prevalence_nom)\n",
    "        region_plot = ax.plot(region_prevalence[-show_trait:], region_gr[-show_trait:], \n",
    "                              marker='o', linestyle='-', lw=4, ms=ms, label=region)\n",
    "        region_color = region_plot[0].get_color()\n",
    "        if show_trait == 1:\n",
    "            ax.axvline(region_prevalence[0], c=region_color)\n",
    "            ax.axhline(region_gr[0], c=region_color)\n",
    "        ax.annotate(region, (region_prevalence[-1], region_gr[-1]), xytext=(5, 5), textcoords='offset points', \n",
    "                    color=region_color, size=13)\n",
    "    ax.set_ylabel(f'growth rate (last {gr_days} days)')\n",
    "    ax.set_xlabel(f'prevalence (active cases / {prevalence_nom} individuals)')\n",
    "    title = f'Growth rate and prevalence for {region}, {cases.index[-1]:%Y-%m-%d}' \\\n",
    "            if region else f'Growth rate and prevalence for Italy, {cases.index[-1]:%Y-%m-%d}'\n",
    "    ax.set_title(title)\n",
    "    ax.yaxis.set_major_formatter(ticker.PercentFormatter(decimals=1))\n",
    "    ax.set_ylim(ylim)\n",
    "    ax.set_xlim(xlim)\n",
    "#     ax.legend()"
   ]
  },
  {
   "cell_type": "code",
   "execution_count": null,
   "metadata": {},
   "outputs": [],
   "source": [
    "gr_days = 7"
   ]
  },
  {
   "cell_type": "code",
   "execution_count": null,
   "metadata": {
    "scrolled": false
   },
   "outputs": [],
   "source": [
    "show_gr_prev(province_df, df_pop, gr_days=gr_days, show_trait=1, figsize=(18, 14), ylim=(0, None))"
   ]
  },
  {
   "cell_type": "code",
   "execution_count": null,
   "metadata": {},
   "outputs": [],
   "source": [
    "show_gr_prev(province_df, df_pop, 'Lombardia', gr_days=gr_days, show_trait=14)"
   ]
  },
  {
   "cell_type": "code",
   "execution_count": null,
   "metadata": {},
   "outputs": [],
   "source": [
    "show_gr_prev(province_df, df_pop, 'Emilia-Romagna', gr_days=gr_days, show_trait=10)"
   ]
  },
  {
   "cell_type": "code",
   "execution_count": null,
   "metadata": {
    "scrolled": false
   },
   "outputs": [],
   "source": [
    "show_gr_prev(province_df, df_pop, 'Piemonte', gr_days=gr_days, show_trait=12)"
   ]
  },
  {
   "cell_type": "code",
   "execution_count": null,
   "metadata": {},
   "outputs": [],
   "source": [
    "show_gr_prev(province_df, df_pop, 'Veneto', gr_days=gr_days, show_trait=14)"
   ]
  },
  {
   "cell_type": "code",
   "execution_count": null,
   "metadata": {},
   "outputs": [],
   "source": [
    "show_gr_prev(province_df, df_pop, 'Puglia',  gr_days=gr_days, show_trait=14)"
   ]
  },
  {
   "cell_type": "code",
   "execution_count": null,
   "metadata": {},
   "outputs": [],
   "source": [
    "show_gr_prev(province_df, df_pop, 'Lazio',  gr_days=gr_days, show_trait=10)"
   ]
  },
  {
   "cell_type": "code",
   "execution_count": null,
   "metadata": {},
   "outputs": [],
   "source": [
    "show_gr_prev(province_df, df_pop, 'Sicilia',  gr_days=gr_days, show_trait=10)"
   ]
  },
  {
   "cell_type": "code",
   "execution_count": null,
   "metadata": {
    "scrolled": false
   },
   "outputs": [],
   "source": [
    "show_gr_prev(province_df, df_pop, 'Sardegna', gr_days=gr_days, show_trait=10)"
   ]
  },
  {
   "cell_type": "code",
   "execution_count": null,
   "metadata": {},
   "outputs": [],
   "source": [
    "show_gr_prev(province_df, df_pop, 'Liguria', gr_days=gr_days, show_trait=30)"
   ]
  },
  {
   "cell_type": "code",
   "execution_count": null,
   "metadata": {},
   "outputs": [],
   "source": [
    "province_name = 'Milano'\n",
    "milano_tot_viz = province_viz(provinces_ds, province_name)\n",
    "milano_tot_viz.show_series(title=f'Casi totali nella provincia di {province_name}')"
   ]
  },
  {
   "cell_type": "code",
   "execution_count": null,
   "metadata": {},
   "outputs": [],
   "source": [
    "province_name = 'Milano'\n",
    "milano_active_viz = province_active_viz(provinces_ds, province_name)\n",
    "milano_active_viz.show_series(title=f'Casi attivi nella provincia di {province_name}')"
   ]
  },
  {
   "cell_type": "code",
   "execution_count": null,
   "metadata": {},
   "outputs": [],
   "source": [
    "fig, ax = milano_tot_viz.show_new(title=f'Nuovi casi giornalieri nella provincia di Milano')\n",
    "ax.set_xlim(('2020-09-01', None))"
   ]
  },
  {
   "cell_type": "code",
   "execution_count": null,
   "metadata": {},
   "outputs": [],
   "source": [
    "milano_2d = (milano_tot_viz.series - milano_tot_viz.series.shift()).resample('2D').sum().expanding().sum()\n",
    "milano_2d_viz = TimeSeriesViz(milano_2d, datetime.now())\n",
    "# milano_2d_viz.show_growth_factor(title=f'Tasso di crescita dei casi a Milano (2 days)', window=4)"
   ]
  },
  {
   "cell_type": "code",
   "execution_count": null,
   "metadata": {},
   "outputs": [],
   "source": [
    "province_name = 'Milano'\n",
    "milano_tot_viz.show_growth_factor(title=f'Tasso di crescita dei casi a {province_name}', \n",
    "                                  raw=True, sma=True, ema=False, window=7)"
   ]
  },
  {
   "cell_type": "code",
   "execution_count": null,
   "metadata": {},
   "outputs": [],
   "source": [
    "milano_tot = milano_tot_viz.series\n",
    "observed = (milano_tot - milano_tot.shift())['2020-09-01':]\n",
    "popt, pcov, y, argmax = show_fit(observed, func, func_name, \n",
    "                                 title=f'Nuovi casi giornalieri in Milano + {func_name} fit', \n",
    "                                 window=7, figsize=(16, 10))\n",
    "K, x, t0, b = popt\n",
    "print(f'Milano: K = {K:.08f}, x = {x:.02f}, t0 = {t0:.02f}, b = {b:.02f}')\n",
    "print(f'peak as of fit: {argmax:%Y-%m-%d}')"
   ]
  },
  {
   "cell_type": "code",
   "execution_count": null,
   "metadata": {},
   "outputs": [],
   "source": [
    "province_name = 'Bergamo'\n",
    "bergamo_tot_viz = province_viz(provinces_ds, province_name)\n",
    "# bergamo_tot_viz.show_series(title=f'Casi totali nella provincia di {province_name}', save_fig=True, save_csv=True)"
   ]
  },
  {
   "cell_type": "code",
   "execution_count": null,
   "metadata": {},
   "outputs": [],
   "source": [
    "bergamo_tot_viz.show_new(title=f'Nuovi casi giornalieri nella provincia di {province_name}')"
   ]
  },
  {
   "cell_type": "code",
   "execution_count": null,
   "metadata": {},
   "outputs": [],
   "source": [
    "(bergamo_tot_viz.series - bergamo_tot_viz.series.shift()).tail()"
   ]
  },
  {
   "cell_type": "code",
   "execution_count": null,
   "metadata": {},
   "outputs": [],
   "source": [
    "province = 'Bergamo'\n",
    "observed = (bergamo_tot_viz.series - bergamo_tot_viz.series.shift())['2020-10-01':]\n",
    "popt, pcov, y, argmax = show_fit(observed, func, func_name, \n",
    "                                 title=f'Nuovi casi giornalieri in {province} + {func_name} fit',\n",
    "                                 window=7)\n",
    "K, x, t0, b = popt\n",
    "print(f'{province}: K = {K:.08f}, x = {x:.02f}, t0 = {t0:.02f}')\n",
    "print(f'first day: {observed.index[0]:%Y-%m-%d}')\n",
    "print(f'peak as of fit: {argmax:%Y-%m-%d}')"
   ]
  },
  {
   "cell_type": "code",
   "execution_count": null,
   "metadata": {},
   "outputs": [],
   "source": [
    "# bergamo_tot_viz.show_growth_factor(title=f'Tasso di crescita dei casi a {province_name}', sma=False, save_fig=True, save_csv=True, ylim=(0, 5))"
   ]
  },
  {
   "cell_type": "code",
   "execution_count": null,
   "metadata": {},
   "outputs": [],
   "source": [
    "province_name = 'Brescia'\n",
    "brescia_tot_viz = province_viz(provinces_ds, province_name)\n",
    "# brescia_tot_viz.show_series(title=f'Casi totali nella provincia di {province_name}', save_fig=True, save_csv=True)"
   ]
  },
  {
   "cell_type": "code",
   "execution_count": null,
   "metadata": {},
   "outputs": [],
   "source": [
    "brescia_tot_viz.show_new(title=f'Nuovi casi giornalieri nella provincia di {province_name}')"
   ]
  },
  {
   "cell_type": "code",
   "execution_count": null,
   "metadata": {},
   "outputs": [],
   "source": [
    "province = 'Brescia'\n",
    "observed = (brescia_tot_viz.series - brescia_tot_viz.series.shift())['2020-10-01':]\n",
    "popt, pcov, y, argmax = show_fit(observed, func, func_name, \n",
    "                            title=f'Nuovi casi giornalieri in {province} + {func_name} fit')\n",
    "K, x, t0, b = popt\n",
    "print(f'{province}: K = {K:.08f}, x = {x:.02f}, t0 = {t0:.02f}')\n",
    "print(f'first day: {observed.index[0]:%Y-%m-%d}')\n",
    "print(f'peak as of fit: {argmax:%Y-%m-%d}')"
   ]
  },
  {
   "cell_type": "code",
   "execution_count": null,
   "metadata": {},
   "outputs": [],
   "source": [
    "# brescia_tot_viz.show_growth_factor(title=f'Tasso di crescita dei casi a {province_name}', \n",
    "#                                    sma=False, save_fig=True, save_csv=True, ylim=(0, 5))"
   ]
  },
  {
   "cell_type": "markdown",
   "metadata": {},
   "source": [
    "# Dati nazionali\n",
    "## Casi totali in Italia"
   ]
  },
  {
   "cell_type": "code",
   "execution_count": null,
   "metadata": {},
   "outputs": [],
   "source": [
    "national_totale = national.df['totale_casi']\n",
    "national_totale.name = 'totali Italia'\n",
    "national_all_viz = TimeSeriesViz(series=national_totale, last_modified=national.last_modified)\n",
    "national_all_viz.logger.setLevel(logging.INFO)"
   ]
  },
  {
   "cell_type": "code",
   "execution_count": null,
   "metadata": {},
   "outputs": [],
   "source": [
    "national_totale.tail()"
   ]
  },
  {
   "cell_type": "code",
   "execution_count": null,
   "metadata": {},
   "outputs": [],
   "source": [
    "# national_all_viz.show_series(title='Casi totali in Italia', save_fig=True, save_csv=True)"
   ]
  },
  {
   "cell_type": "code",
   "execution_count": null,
   "metadata": {},
   "outputs": [],
   "source": [
    "national_all_viz.show_new(title='Nuovi casi giornalieri in Italia', zero_min=True)\n",
    "print((national_all_viz.series - national_all_viz.series.shift()).tail())"
   ]
  },
  {
   "cell_type": "code",
   "execution_count": null,
   "metadata": {},
   "outputs": [],
   "source": [
    "total = national.df['totale_casi']\n",
    "tests = national.df['casi_testati']\n",
    "diff_total = (total - total.shift())\n",
    "diff_tests = (tests - tests.shift())\n",
    "normalized = (diff_total / (diff_tests / diff_tests[-1]))['2020-09-01':]\n",
    "normalized.name = 'nuovi casi ponderati ai tamponi'\n",
    "popt, pcov, fit, argmax = show_fit(normalized, func, func_name, pred=30, figsize=(16, 10),\n",
    "                           title=f'Nuovi casi normalizzati giornalieri in Italia + {func_name} fit\\n$n(t)=Kt^{{x}}e^{{-t/t_0}}$',\n",
    "                                   window=7)\n",
    "K, x, t0, b = popt\n",
    "print(f'Italia: K = {K:.08f}, x = {x:.02f}, t0 = {t0:.02f}')\n",
    "print(f'first day: {normalized.index[0]:%Y-%m-%d}')\n",
    "print(f'peak as of fit: {argmax:%Y-%m-%d}')"
   ]
  },
  {
   "cell_type": "code",
   "execution_count": null,
   "metadata": {},
   "outputs": [],
   "source": [
    "observed = (national_totale - national_totale.shift())['2020-09-01':]\n",
    "popt, pcov, y, argmax = show_fit(observed, func, func_name, \n",
    "                                 title=f'Nuovi casi giornalieri in Italia + {func_name} fit', \n",
    "                                 figsize=(16, 10), pred=15, window=7)\n",
    "K, x, t0, b = popt\n",
    "print(f'Italia: K = {K:.08f}, x = {x:.02f}, t0 = {t0:.02f}')\n",
    "print(f'first day: {observed.index[0]:%Y-%m-%d}')\n",
    "print(f'peak as of fit: {argmax:%Y-%m-%d}')"
   ]
  },
  {
   "cell_type": "code",
   "execution_count": null,
   "metadata": {},
   "outputs": [],
   "source": [
    "observed"
   ]
  },
  {
   "cell_type": "code",
   "execution_count": null,
   "metadata": {},
   "outputs": [],
   "source": [
    "# total = national.df['totale_casi']\n",
    "# tests = national.df['tamponi']\n",
    "# diff_total = (total - total.shift())\n",
    "# diff_tests = (tests - tests.shift())\n",
    "# normalized_total = (diff_total / (diff_tests / diff_tests.max()))[1:]\n",
    "# normalized_total['2020-03-09'] = (normalized_total['2020-03-08'] + normalized_total['2020-03-10']) / 2\n",
    "# normalized_new.name = 'nuovi casi ponderati ai tamponi'\n",
    "# popt, pcov, fit = show_fit(normalized_new, func, func_name,\n",
    "#                          title=f'Nuovi casi normalizzati giornalieri in Italia + {func_name} fit\\n$n(t)=Kt^{{x}}e^{{-t/t_0}}$')\n",
    "# K, x, t0 = popt\n",
    "# print(f'{region}: K = {K:.08f}, x = {x:.02f}, t0 = {t0:.02f}')\n",
    "# print(f'first day: {normalized_new.index[0]:%Y-%m-%d}')\n",
    "# print(f'peak as of fit: {normalized_new.index[np.argmax(fit)]:%Y-%m-%d}')"
   ]
  },
  {
   "cell_type": "code",
   "execution_count": null,
   "metadata": {},
   "outputs": [],
   "source": [
    "national_all_viz.show_growth_factor(title='Tasso di crescita per i casi totali in Italia', \n",
    "                                    raw=False, sma=True, ema=False, window=7)"
   ]
  },
  {
   "cell_type": "markdown",
   "metadata": {},
   "source": [
    "## Casi decessi in Italia"
   ]
  },
  {
   "cell_type": "code",
   "execution_count": null,
   "metadata": {},
   "outputs": [],
   "source": [
    "deaths = national.df['deceduti']\n",
    "deaths.name = 'deceduti Italia'\n",
    "deaths_viz = TimeSeriesViz(series=deaths, last_modified=national.last_modified)\n",
    "deaths_viz.logger.setLevel(logging.INFO)"
   ]
  },
  {
   "cell_type": "code",
   "execution_count": null,
   "metadata": {},
   "outputs": [],
   "source": [
    "# deaths_viz.show_series(title='Casi deceduti in Italia', save_fig=True, save_csv=True)"
   ]
  },
  {
   "cell_type": "code",
   "execution_count": null,
   "metadata": {},
   "outputs": [],
   "source": [
    "# deaths_viz.show_new(title='Nuovi casi deceduti in Italia', save_fig=True, save_csv=True)"
   ]
  },
  {
   "cell_type": "code",
   "execution_count": null,
   "metadata": {},
   "outputs": [],
   "source": [
    "observed = (deaths - deaths.shift())['2020-10-01':]\n",
    "popt, pcov, y, argmax = show_fit(observed, func, func_name, pred=14,\n",
    "                                 title=f'Nuovi deceduti giornalieri in Italia + {func_name} fit', \n",
    "                                 figsize=(16, 10))\n",
    "K, x, t0, b = popt\n",
    "print(f'Italia: K = {K:.08f}, x = {x:.02f}, t0 = {t0:.02f}')\n",
    "print(f'first day: {observed.index[0]:%Y-%m-%d}')\n",
    "print(f'peak as of fit: {argmax:%Y-%m-%d}')"
   ]
  },
  {
   "cell_type": "code",
   "execution_count": null,
   "metadata": {},
   "outputs": [],
   "source": [
    "observed.tail()"
   ]
  },
  {
   "cell_type": "code",
   "execution_count": null,
   "metadata": {},
   "outputs": [],
   "source": [
    "# deaths_viz.show_growth_factor(title='Tasso di crescita dei deceduti in Italia', sma=False, save_fig=True, save_csv=True)"
   ]
  },
  {
   "cell_type": "markdown",
   "metadata": {},
   "source": [
    "## Casi in terapia intensiva in Italia"
   ]
  },
  {
   "cell_type": "code",
   "execution_count": null,
   "metadata": {},
   "outputs": [],
   "source": [
    "ti = national.df['terapia_intensiva']\n",
    "ti.name = 'ti Italia'\n",
    "ti_viz = TimeSeriesViz(series=ti, last_modified=national.last_modified)\n",
    "ti_viz.logger.setLevel(logging.INFO)"
   ]
  },
  {
   "cell_type": "code",
   "execution_count": null,
   "metadata": {},
   "outputs": [],
   "source": [
    "ti_viz.show_series(title='Casi in terapia intensiva in Italia')"
   ]
  },
  {
   "cell_type": "code",
   "execution_count": null,
   "metadata": {},
   "outputs": [],
   "source": [
    "ti_viz.show_new(title='Nuovi casi in terapia intensiva in Italia')"
   ]
  },
  {
   "cell_type": "code",
   "execution_count": null,
   "metadata": {},
   "outputs": [],
   "source": [
    "all_serious = national.df['ricoverati_con_sintomi'] +  national.df['terapia_intensiva']\n",
    "all_serious.name = 'tutti casi seri Italia'\n",
    "all_serious_viz = TimeSeriesViz(series=all_serious, last_modified=national.last_modified)\n",
    "all_serious_viz.logger.setLevel(logging.INFO)"
   ]
  },
  {
   "cell_type": "code",
   "execution_count": null,
   "metadata": {},
   "outputs": [],
   "source": [
    "all_serious_viz.show_series(title='Tutti casi seri (ricoverati + ti) in Italia')"
   ]
  },
  {
   "cell_type": "code",
   "execution_count": null,
   "metadata": {},
   "outputs": [],
   "source": [
    "all_serious_viz.show_new(title='Nuovi casi seri (ricoverati + ti) in Italia')"
   ]
  },
  {
   "cell_type": "code",
   "execution_count": null,
   "metadata": {},
   "outputs": [],
   "source": [
    "# regions_df_totale = regional_ds.df.pivot(columns='denominazione_regione', values='totale_casi').resample('D').last()\n",
    "# regions_df_totale_diff = (regions_df_totale - regions_df_totale.shift())\n",
    "# selected_regions = ['Lombardia', 'Emilia Romagna', 'Veneto']\n",
    "# selected_regions = ['Lombardia']\n",
    "# show_gr(regions_df_totale_diff[selected_regions], raw=True, sma=False, ema=True,\n",
    "#         title=f'Tasso di cressita dei casi totali in alcuni Regioni\\n'a\n",
    "#               f'(dati aggiornati: {regional_ds.last_modified:%d/%m/%Y %H:%M:%S})')"
   ]
  }
 ],
 "metadata": {
  "kernelspec": {
   "display_name": "workspace",
   "language": "python",
   "name": "workspace"
  },
  "language_info": {
   "codemirror_mode": {
    "name": "ipython",
    "version": 3
   },
   "file_extension": ".py",
   "mimetype": "text/x-python",
   "name": "python",
   "nbconvert_exporter": "python",
   "pygments_lexer": "ipython3",
   "version": "3.7.8"
  }
 },
 "nbformat": 4,
 "nbformat_minor": 4
}
