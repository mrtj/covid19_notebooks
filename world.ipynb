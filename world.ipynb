{
 "cells": [
  {
   "cell_type": "code",
   "execution_count": null,
   "metadata": {},
   "outputs": [],
   "source": [
    "import pandas as pd\n",
    "import matplotlib.pyplot as plt\n",
    "import matplotlib.dates as mdates\n",
    "import datetime as dt\n",
    "from datetime import datetime\n",
    "import numpy as np\n",
    "import warnings\n",
    "from scipy.optimize import curve_fit\n",
    "from sklearn.metrics import mean_squared_error\n",
    "from math import sqrt\n",
    "\n",
    "from ts_viz import TimeSeriesViz"
   ]
  },
  {
   "cell_type": "code",
   "execution_count": null,
   "metadata": {},
   "outputs": [],
   "source": [
    "# func = lambda x, a, b: a * np.exp(b * x) \n",
    "# func_name = 'exp'\n",
    "\n",
    "func = lambda t, K, x, t0, b: K * np.power(t, x) * np.exp(-t / t0) + b\n",
    "func_name = 'power'\n",
    "\n",
    "def show_fit(series, func=False, func_name=False, title=None, pred=7, sma=False, figsize=(10, 6)):\n",
    "    x = np.arange(len(series))\n",
    "    index = pd.date_range(series.index.min(), periods=(len(series) + pred), freq='D')\n",
    "    if func:    \n",
    "        with warnings.catch_warnings():\n",
    "            warnings.simplefilter(\"ignore\")\n",
    "            popt, pcov = curve_fit(func, x, series.values, maxfev=10000, p0=(1, 1, 5, 0))\n",
    "        y = func(np.arange(len(index)), *popt)\n",
    "        fit = pd.Series(y, index=index)\n",
    "        err = np.sqrt(np.sum((fit[:-pred] - series) ** 2) / len(series))\n",
    "        print(f'Fit error: {err:.02f}')\n",
    "        print(f'Predicted volume error: {1 - fit[:-pred].sum() / series.sum():.02%}')\n",
    "\n",
    "    fig, ax = plt.subplots(figsize=figsize)\n",
    "    if func:\n",
    "        ax.plot(index, y, label=f'{func_name} fit', color='tab:red', lw=2)\n",
    "        ax.axvline(index[np.argmax(fit)], color='tab:red')\n",
    "\n",
    "    ax.bar(series.index, series, label=series.name)\n",
    "    \n",
    "    if sma:\n",
    "        sma_series = series.rolling(sma, center=True).mean()\n",
    "        ax.plot(sma_series.index, sma_series, label=f'Moving avg ({sma} days)', color='tab:orange', lw=2)\n",
    "    \n",
    "#     locator = mdates.DayLocator(interval=7)\n",
    "#     locator = mdates.WeekdayLocator(byweekday=mdates.MO)\n",
    "    locator = mdates.MonthLocator(bymonthday=[1, 15])\n",
    "    ax.xaxis.set_major_locator(locator)\n",
    "    ax.xaxis.set_minor_locator(mdates.DayLocator(interval=1))\n",
    "    ax.xaxis.set_major_formatter(mdates.ConciseDateFormatter(locator))\n",
    "    ax.set_ylim(0, None)\n",
    "    if title:\n",
    "        ax.set_title(title)\n",
    "    plt.legend(loc='upper left')\n",
    "    if func:\n",
    "        return (fig, ax), popt, pcov, fit\n",
    "    else:\n",
    "        return (fig, ax), None, None, None"
   ]
  },
  {
   "cell_type": "code",
   "execution_count": null,
   "metadata": {
    "scrolled": true
   },
   "outputs": [],
   "source": [
    "yesterday = True\n",
    "\n",
    "day = (datetime.now() - dt.timedelta(days=1 if yesterday else 0)).strftime('%Y-%m-%d')\n",
    "world_url = f'https://www.ecdc.europa.eu/sites/default/files/documents/COVID-19-geographic-disbtribution-worldwide-{day}.xlsx'\n",
    "print('Downloading:', world_url)\n",
    "date_parser = lambda x: pd.datetime.strptime(x, '%Y-%m-%d')\n",
    "df_raw = pd.read_excel(world_url, parse_dates=['dateRep'], index_col=0)\n",
    "print(f'Last day with data: {df_raw.index.max():%Y-%m-%d}')\n",
    "df_raw = df_raw[['cases', 'deaths', 'countriesAndTerritories']]\n",
    "df_raw.columns = ['cases', 'deaths', 'country']\n",
    "df_raw = df_raw.sort_index()\n",
    "df_raw[df_raw['country'] == 'Hungary'].tail()"
   ]
  },
  {
   "cell_type": "code",
   "execution_count": null,
   "metadata": {},
   "outputs": [],
   "source": [
    "df = df_raw.groupby('country').sum()"
   ]
  },
  {
   "cell_type": "code",
   "execution_count": null,
   "metadata": {},
   "outputs": [],
   "source": [
    "df.to_csv(f'data/world-{day}.csv')"
   ]
  },
  {
   "cell_type": "code",
   "execution_count": null,
   "metadata": {},
   "outputs": [],
   "source": [
    "class FitFunc:\n",
    "    def __init__(self, func, name, disp_eq, params_name, params_init, maxfev=2000):\n",
    "        self.func = func\n",
    "        self.name = name\n",
    "        self.disp_eq = disp_eq\n",
    "        self.params_name = params_name\n",
    "        self.params_init = params_init\n",
    "        self.maxfev=maxfev\n",
    "    \n",
    "    def fit_timeseries(self, series, pred=7):\n",
    "        x = np.arange(len(series))\n",
    "        index = pd.date_range(series.index.min(), periods=(len(series) + pred), freq='D')\n",
    "        with warnings.catch_warnings():\n",
    "            warnings.simplefilter(\"ignore\")\n",
    "            popt, pcov = curve_fit(self.func, x, series.values, maxfev=self.maxfev, p0=self.params_init)\n",
    "        y = self.func(np.arange(len(index)), *popt)\n",
    "        fit = pd.Series(y, index=index)\n",
    "        rmse = sqrt(mean_squared_error(y, fit))\n",
    "        return (fit, )\n",
    "\n",
    "\n",
    "\n",
    "\n",
    "power_func = FitFunc(\n",
    "    func=lambda t, K, x, t0, b: K * np.power(t, x) * np.exp(-t / t0) + b,\n",
    "    name='power law',\n",
    "    disp_eq='$n(t)=Kt^{{x}}e^{{-t/t_0}}+b$',\n",
    "    params_name=['K', 'x', 't_0', 'b'],\n",
    "    params_init=[1, 1, 5, 0],\n",
    "    maxfev=5000\n",
    ")\n",
    "\n",
    "class Diag:\n",
    "    def __init__(self, series, series_name=None, figsize=(16, 10)):\n",
    "        self.series = series\n",
    "        self.figsize = figsize\n",
    "        self.series_name = series_name if series_name else series.name\n",
    "          \n",
    "    def __enter__(self):\n",
    "        self.fig, self.ax = plt.subplots(figsize=self.figsize)\n",
    "        self.ax.yaxis.grid(True, which='major')\n",
    "        return self\n",
    "      \n",
    "    def __exit__(self, exc_type, exc_value, exc_traceback):\n",
    "        self.ax.set_title(self.series_name)\n",
    "        self.ax.legend()\n",
    "        plt.show()\n",
    "\n",
    "    def show_series(self):\n",
    "        self.ax.bar(self.series.index, self.series, align='center', label='data')\n",
    "        \n",
    "    def show_ma(self, window=7, center=True, color='tab:orange', lw=3):\n",
    "        ma = self.series.rolling(window=window, center=center).mean()\n",
    "        self.ax.plot(ma.index, ma, label=f'{window} days moving average', color=color, lw=lw)\n",
    "    \n",
    "    def show_fit(self, fit_func):\n",
    "        x = np.arange(len(self.series))\n",
    "        index = pd.date_range(self.series.index.min(), periods=(len(self.series) + pred), freq='D')\n",
    "        with warnings.catch_warnings():\n",
    "            warnings.simplefilter(\"ignore\")\n",
    "            popt, pcov = curve_fit(fit_func, x, self.series.values, maxfev=5000, p0=(1, 1, 5, 0))\n",
    "        y = func(np.arange(len(index)), *popt)\n",
    "        fit = pd.Series(y, index=index)\n",
    "        err = np.sqrt(np.sum((fit[:-pred] - series) ** 2) / len(series))\n",
    "        print(f'Fit error: {err:.02f}')\n",
    "        print(f'Predicted volume error: {1 - fit[:-pred].sum() / series.sum():.02%}')\n",
    "\n",
    "#     fig, ax = plt.subplots(figsize=figsize)\n",
    "#     if func:\n",
    "#         ax.plot(index, y, label=f'{func_name} fit', color='tab:red', lw=2)\n",
    "#         ax.axvline(index[np.argmax(fit)], color='tab:red')"
   ]
  },
  {
   "cell_type": "code",
   "execution_count": null,
   "metadata": {},
   "outputs": [],
   "source": [
    "def show_new(series, title, figsize=(16, 10)):\n",
    "    fig, ax = plt.subplots(figsize=figsize)\n",
    "    ax.bar(series.index, series, align='center')\n",
    "    ax.set_title(title)\n",
    "    ax.yaxis.grid(True, which='major')\n",
    "    locator = mdates.DayLocator(interval=1)\n",
    "    ax.xaxis.set_major_locator(locator)\n",
    "    ax.xaxis.set_major_formatter(mdates.ConciseDateFormatter(locator))\n",
    "    ax.set_xlim((series.index.min() + pd.Timedelta(days=.5), series.index.max() + pd.Timedelta(days=.5)))"
   ]
  },
  {
   "cell_type": "code",
   "execution_count": null,
   "metadata": {},
   "outputs": [],
   "source": [
    "italy = df_raw[(df_raw['country'] == 'Italy')].sort_index()\n",
    "with Diag(italy['cases']['2020-09-01':], series_name='Daily cases in Italy') as diag:\n",
    "    diag.show_series()\n",
    "    diag.show_ma()"
   ]
  },
  {
   "cell_type": "code",
   "execution_count": null,
   "metadata": {},
   "outputs": [],
   "source": [
    "class CountryViz:\n",
    "\n",
    "    def __init__(self, country, start, df_raw, end=None, fit_func=False, fit_func_name=False, pred=7):\n",
    "        self.country = country\n",
    "        self.start = start\n",
    "        self.end = end\n",
    "        self.fit_func = fit_func\n",
    "        self.fit_func_name = fit_func_name\n",
    "        self.pred = pred\n",
    "        mask = (df_raw['country'] == country) & (df_raw.index > start)\n",
    "        if end:\n",
    "            mask &= df_raw.index <= end\n",
    "        self.df = df_raw[mask].sort_index()\n",
    "        self.cases = self.df['cases'].copy()\n",
    "        self.deaths = self.df['deaths'].copy()\n",
    "\n",
    "    def _show_diag(self, series, name, sma=7):\n",
    "        (fig, ax), popt, pcov, y = show_fit(series, self.fit_func, self.fit_func_name, \n",
    "                                            title=f'{name} in {self.country}', sma=sma, figsize=(16, 10), \n",
    "                                            pred=self.pred)\n",
    "        if self.fit_func:\n",
    "            K, x, t0, b = popt\n",
    "            print(f'{self.country}: K = {K:.08f}, x = {x:.02f}, t0 = {t0:.02f}, b = {t0:.02f}')\n",
    "            print(f'first day: {self.cases.index[0]:%Y-%m-%d}')\n",
    "            print(f'peak as of fit: {y.index[np.argmax(y)]:%Y-%m-%d}')\n",
    "        print(f'\\n{name} data:')\n",
    "        print(series.tail())\n",
    "        return fig, ax\n",
    "        \n",
    "        \n",
    "    def show_cases(self):\n",
    "        return self._show_diag(self.cases, 'New daily cases')\n",
    "        \n",
    "    def show_deaths(self):\n",
    "        return self._show_diag(self.deaths, 'Daily deaths')"
   ]
  },
  {
   "cell_type": "code",
   "execution_count": null,
   "metadata": {},
   "outputs": [],
   "source": [
    "france = CountryViz('France', '2020-02-28', df_raw)\n",
    "fig, ax = france.show_cases()\n",
    "plt.show()"
   ]
  },
  {
   "cell_type": "code",
   "execution_count": null,
   "metadata": {},
   "outputs": [],
   "source": [
    "france.show_deaths()"
   ]
  },
  {
   "cell_type": "code",
   "execution_count": null,
   "metadata": {},
   "outputs": [],
   "source": [
    "hun = CountryViz('Hungary', '2020-02-28', df_raw)\n",
    "hun.show_cases()"
   ]
  },
  {
   "cell_type": "code",
   "execution_count": null,
   "metadata": {},
   "outputs": [],
   "source": [
    "hun.show_deaths()"
   ]
  },
  {
   "cell_type": "code",
   "execution_count": null,
   "metadata": {},
   "outputs": [],
   "source": [
    "belgium = CountryViz('Belgium', '2020-09-01', df_raw, \n",
    "                     fit_func=func, fit_func_name=func_name)\n",
    "fig, ax = belgium.show_cases()\n",
    "# ax.set_ylim(0, 30000)\n",
    "plt.show()"
   ]
  },
  {
   "cell_type": "code",
   "execution_count": null,
   "metadata": {},
   "outputs": [],
   "source": [
    "spain = CountryViz('Spain', '2020-02-28', df_raw)\n",
    "fig, ax = spain.show_cases()\n",
    "# ax.set_ylim(0, 30000)\n",
    "plt.show()"
   ]
  },
  {
   "cell_type": "code",
   "execution_count": null,
   "metadata": {},
   "outputs": [],
   "source": [
    "spain.show_deaths()"
   ]
  },
  {
   "cell_type": "code",
   "execution_count": null,
   "metadata": {},
   "outputs": [],
   "source": [
    "uk = CountryViz('United_Kingdom', '2020-02-28', df_raw)\n",
    "uk.show_cases()"
   ]
  },
  {
   "cell_type": "code",
   "execution_count": null,
   "metadata": {},
   "outputs": [],
   "source": [
    "uk.show_deaths()"
   ]
  },
  {
   "cell_type": "code",
   "execution_count": null,
   "metadata": {},
   "outputs": [],
   "source": [
    "usa = CountryViz('United_States_of_America', '2020-02-28', df_raw)\n",
    "usa.show_cases()"
   ]
  },
  {
   "cell_type": "code",
   "execution_count": null,
   "metadata": {},
   "outputs": [],
   "source": [
    "usa.show_deaths()"
   ]
  },
  {
   "cell_type": "code",
   "execution_count": null,
   "metadata": {},
   "outputs": [],
   "source": [
    "it = CountryViz('Italy', '2020-02-28', df_raw)\n",
    "it.show_cases()"
   ]
  },
  {
   "cell_type": "code",
   "execution_count": null,
   "metadata": {},
   "outputs": [],
   "source": [
    "it.show_deaths()"
   ]
  },
  {
   "cell_type": "code",
   "execution_count": null,
   "metadata": {},
   "outputs": [],
   "source": [
    "sw = CountryViz('Sweden', '2020-02-28', df_raw)\n",
    "sw.show_cases()"
   ]
  },
  {
   "cell_type": "code",
   "execution_count": null,
   "metadata": {},
   "outputs": [],
   "source": [
    "sw.show_deaths()"
   ]
  },
  {
   "cell_type": "code",
   "execution_count": null,
   "metadata": {},
   "outputs": [],
   "source": [
    "ger = CountryViz('Germany', '2020-02-28', df_raw)\n",
    "ger.show_cases()"
   ]
  },
  {
   "cell_type": "code",
   "execution_count": null,
   "metadata": {},
   "outputs": [],
   "source": [
    "ger.show_deaths()"
   ]
  },
  {
   "cell_type": "code",
   "execution_count": null,
   "metadata": {},
   "outputs": [],
   "source": [
    "ice = CountryViz('Iceland', '2020-02-28', df_raw)\n",
    "ice.show_cases()"
   ]
  },
  {
   "cell_type": "code",
   "execution_count": null,
   "metadata": {},
   "outputs": [],
   "source": [
    "sing = CountryViz('Singapore', '2020-02-28', df_raw)\n",
    "sing.show_cases()"
   ]
  },
  {
   "cell_type": "code",
   "execution_count": null,
   "metadata": {},
   "outputs": [],
   "source": [
    "sk = CountryViz('South_Korea', '2020-02-18', df_raw)\n",
    "sk.show_cases()"
   ]
  },
  {
   "cell_type": "code",
   "execution_count": null,
   "metadata": {},
   "outputs": [],
   "source": [
    "sk.show_deaths()"
   ]
  },
  {
   "cell_type": "code",
   "execution_count": null,
   "metadata": {},
   "outputs": [],
   "source": [
    "CountryViz('Japan', '2020-02-15', df_raw).show_cases()"
   ]
  },
  {
   "cell_type": "code",
   "execution_count": null,
   "metadata": {},
   "outputs": [],
   "source": [
    "fig, ax = CountryViz('Japan', '2020-02-15', df_raw).show_deaths()\n",
    "ax.set_ylim(0, 50)"
   ]
  },
  {
   "cell_type": "code",
   "execution_count": null,
   "metadata": {},
   "outputs": [],
   "source": [
    "viz = CountryViz('Brazil', '2020-02-28', df_raw)\n",
    "viz.show_cases()"
   ]
  },
  {
   "cell_type": "code",
   "execution_count": null,
   "metadata": {},
   "outputs": [],
   "source": [
    "viz.show_deaths()"
   ]
  },
  {
   "cell_type": "code",
   "execution_count": null,
   "metadata": {},
   "outputs": [],
   "source": [
    "viz = CountryViz('Russia', '2020-02-28', df_raw)\n",
    "viz.show_cases()"
   ]
  },
  {
   "cell_type": "code",
   "execution_count": null,
   "metadata": {},
   "outputs": [],
   "source": [
    "viz.show_deaths()"
   ]
  },
  {
   "cell_type": "code",
   "execution_count": null,
   "metadata": {},
   "outputs": [],
   "source": [
    "viz = CountryViz('Romania', '2020-02-28', df_raw)\n",
    "viz.show_cases()"
   ]
  },
  {
   "cell_type": "code",
   "execution_count": null,
   "metadata": {},
   "outputs": [],
   "source": [
    "viz = CountryViz('Ukraine', '2020-02-28', df_raw)\n",
    "viz.show_cases()"
   ]
  },
  {
   "cell_type": "code",
   "execution_count": null,
   "metadata": {},
   "outputs": [],
   "source": [
    "iran = CountryViz('Iran', '2020-02-28', df_raw)\n",
    "iran.show_cases()"
   ]
  },
  {
   "cell_type": "code",
   "execution_count": null,
   "metadata": {},
   "outputs": [],
   "source": [
    "iran.show_deaths()"
   ]
  },
  {
   "cell_type": "code",
   "execution_count": null,
   "metadata": {},
   "outputs": [],
   "source": [
    "cz = CountryViz('Czechia', '2020-02-28', df_raw)\n",
    "cz.show_cases()"
   ]
  },
  {
   "cell_type": "code",
   "execution_count": null,
   "metadata": {},
   "outputs": [],
   "source": [
    "cz.show_deaths()"
   ]
  },
  {
   "cell_type": "code",
   "execution_count": null,
   "metadata": {},
   "outputs": [],
   "source": [
    "CountryViz('South_Africa', '2020-02-15', df_raw).show_cases()"
   ]
  },
  {
   "cell_type": "code",
   "execution_count": null,
   "metadata": {},
   "outputs": [],
   "source": [
    "fig, ax = CountryViz('Chile', '2020-02-15', df_raw).show_cases()\n",
    "ax.set_ylim(None, 8000)"
   ]
  },
  {
   "cell_type": "code",
   "execution_count": null,
   "metadata": {},
   "outputs": [],
   "source": [
    "CountryViz('Australia', '2020-02-15', df_raw).show_cases()"
   ]
  },
  {
   "cell_type": "code",
   "execution_count": null,
   "metadata": {},
   "outputs": [],
   "source": [
    "CountryViz('New_Zealand', '2020-02-15', df_raw).show_cases()"
   ]
  },
  {
   "cell_type": "code",
   "execution_count": null,
   "metadata": {},
   "outputs": [],
   "source": [
    "CountryViz('Canada', '2020-02-15', df_raw).show_cases()"
   ]
  },
  {
   "cell_type": "code",
   "execution_count": null,
   "metadata": {},
   "outputs": [],
   "source": [
    "india = CountryViz('India', '2020-02-15', df_raw)\n",
    "india.show_cases()"
   ]
  },
  {
   "cell_type": "code",
   "execution_count": null,
   "metadata": {},
   "outputs": [],
   "source": [
    "india.show_deaths()"
   ]
  },
  {
   "cell_type": "code",
   "execution_count": null,
   "metadata": {},
   "outputs": [],
   "source": [
    "fig, ax = CountryViz('China', '2020-01-01', df_raw).show_cases()\n",
    "ax.set_ylim(0, 5000)"
   ]
  },
  {
   "cell_type": "code",
   "execution_count": null,
   "metadata": {},
   "outputs": [],
   "source": [
    "fig, ax = CountryViz('Belgium', '2020-01-01', df_raw).show_cases()"
   ]
  },
  {
   "cell_type": "code",
   "execution_count": null,
   "metadata": {},
   "outputs": [],
   "source": [
    "sorted(df_raw['country'].unique())"
   ]
  },
  {
   "cell_type": "code",
   "execution_count": null,
   "metadata": {},
   "outputs": [],
   "source": [
    "from matplotlib.patches import Ellipse\n",
    "\n",
    "fig, ax = plt.subplots(figsize=(16, 10))\n",
    "country = 'China'\n",
    "start = '2020-01-15'\n",
    "end = '2020-03-01'\n",
    "country_df = df_raw[(df_raw['country'] == country) & (df_raw.index > start) & (df_raw.index < end)].sort_index()\n",
    "ax.set_title('Total cases of COVID-19 in China')\n",
    "cases_exp = country_df['cases'].expanding().sum()\n",
    "ax.plot(cases_exp)\n",
    "\n",
    "ann_start = '2020-02-12'\n",
    "ann_stop = '2020-02-13'\n",
    "\n",
    "ann_center_x = (mdates.datestr2num(ann_start) + mdates.datestr2num(ann_stop)) / 2\n",
    "ann_center_y = (cases_exp[ann_start] + cases_exp[ann_stop]) / 2\n",
    "ann_zoom = 1.5\n",
    "ann_height = (cases_exp[ann_stop] - cases_exp[ann_start]) * ann_zoom\n",
    "timespan = mdates.datestr2num(ann_stop) - mdates.datestr2num(ann_start)\n",
    "ann_width = timespan * 2 * ann_zoom\n",
    "ellipse = Ellipse(xy=(ann_center_x, ann_center_y), width=ann_width, height=ann_height, edgecolor='r', fc='None', lw=2)\n",
    "ax.add_patch(ellipse)\n",
    "\n",
    "ax.annotate('China changed\\ncase definition',\n",
    "            xy=(ann_center_x, ann_center_y), xycoords='data',\n",
    "            xytext=(50, -100), textcoords='offset points',\n",
    "            size=15,\n",
    "            arrowprops=dict(arrowstyle=\"simple\",\n",
    "                            fc=\"0.6\", ec=\"none\",\n",
    "                            patchB=ellipse,\n",
    "                            connectionstyle=\"arc3,rad=0.3\"))\n",
    "\n",
    "plt.show()"
   ]
  },
  {
   "cell_type": "code",
   "execution_count": null,
   "metadata": {},
   "outputs": [],
   "source": []
  }
 ],
 "metadata": {
  "kernelspec": {
   "display_name": "workspace",
   "language": "python",
   "name": "workspace"
  },
  "language_info": {
   "codemirror_mode": {
    "name": "ipython",
    "version": 3
   },
   "file_extension": ".py",
   "mimetype": "text/x-python",
   "name": "python",
   "nbconvert_exporter": "python",
   "pygments_lexer": "ipython3",
   "version": "3.7.8"
  }
 },
 "nbformat": 4,
 "nbformat_minor": 4
}
