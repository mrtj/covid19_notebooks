{
 "cells": [
  {
   "cell_type": "code",
   "execution_count": null,
   "metadata": {},
   "outputs": [],
   "source": [
    "import pandas as pd\n",
    "import matplotlib.pyplot as plt\n",
    "import matplotlib.dates as mdates\n",
    "import datetime as dt\n",
    "from datetime import datetime\n",
    "import numpy as np\n",
    "import warnings\n",
    "from math import sqrt\n",
    "\n",
    "from scipy.optimize import curve_fit\n",
    "from sklearn.metrics import mean_squared_error\n",
    "from dateutil.rrule import rrule, rruleset\n",
    "\n",
    "from ts_viz import TimeSeriesViz"
   ]
  },
  {
   "cell_type": "code",
   "execution_count": null,
   "metadata": {},
   "outputs": [],
   "source": [
    "# func = lambda x, a, b: a * np.exp(b * x) \n",
    "# func_name = 'exp'\n",
    "\n",
    "func = lambda t, K, x, t0, b: K * np.power(t, x) * np.exp(-t / t0) + b\n",
    "func_name = 'power'\n",
    "\n",
    "def show_fit(series, func=False, func_name=False, title=None, pred=7, sma=False, figsize=(10, 6)):\n",
    "    x = np.arange(len(series))\n",
    "    index = pd.date_range(series.index.min(), periods=(len(series) + pred), freq='D')\n",
    "    if func:    \n",
    "        with warnings.catch_warnings():\n",
    "            warnings.simplefilter(\"ignore\")\n",
    "            popt, pcov = curve_fit(func, x, series.values, maxfev=10000, p0=(1, 1, 5, 0))\n",
    "        y = func(np.arange(len(index)), *popt)\n",
    "        fit = pd.Series(y, index=index)\n",
    "        err = np.sqrt(np.sum((fit[:-pred] - series) ** 2) / len(series))\n",
    "        print(f'Fit error: {err:.02f}')\n",
    "        print(f'Predicted volume error: {1 - fit[:-pred].sum() / series.sum():.02%}')\n",
    "\n",
    "    fig, ax = plt.subplots(figsize=figsize)\n",
    "    if func:\n",
    "        ax.plot(index, y, label=f'{func_name} fit', color='tab:red', lw=2)\n",
    "        ax.axvline(index[np.argmax(fit)], color='tab:red')\n",
    "\n",
    "    ax.bar(series.index, series, label=series.name)\n",
    "    \n",
    "    if sma:\n",
    "        sma_series = series.rolling(sma, center=True).mean()\n",
    "        ax.plot(sma_series.index, sma_series, label=f'Moving avg ({sma} days)', color='tab:orange', lw=2)\n",
    "    \n",
    "#     locator = mdates.DayLocator(interval=7)\n",
    "#     locator = mdates.WeekdayLocator(byweekday=mdates.MO)\n",
    "    locator = mdates.MonthLocator(bymonthday=[1, 15])\n",
    "    ax.xaxis.set_major_locator(locator)\n",
    "    ax.xaxis.set_minor_locator(mdates.DayLocator(interval=1))\n",
    "    ax.xaxis.set_major_formatter(mdates.ConciseDateFormatter(locator))\n",
    "    ax.set_ylim(0, None)\n",
    "    if title:\n",
    "        ax.set_title(title)\n",
    "    plt.legend(loc='upper left')\n",
    "    if func:\n",
    "        return (fig, ax), popt, pcov, fit\n",
    "    else:\n",
    "        return (fig, ax), None, None, None"
   ]
  },
  {
   "cell_type": "code",
   "execution_count": null,
   "metadata": {
    "scrolled": true
   },
   "outputs": [],
   "source": [
    "yesterday = True\n",
    "\n",
    "day = (datetime.now() - dt.timedelta(days=1 if yesterday else 0)).strftime('%Y-%m-%d')\n",
    "world_url =  'https://www.ecdc.europa.eu/sites/default/files/documents/'\\\n",
    "            f'COVID-19-geographic-disbtribution-worldwide-{day}.xlsx'\n",
    "print('Downloading:', world_url)\n",
    "date_parser = lambda x: pd.datetime.strptime(x, '%Y-%m-%d')\n",
    "df_raw = pd.read_excel(world_url, parse_dates=['dateRep'], index_col=0)\n",
    "print(f'Last day with data: {df_raw.index.max():%Y-%m-%d}')\n",
    "df_raw = df_raw[['cases', 'deaths', 'countriesAndTerritories']]\n",
    "df_raw.columns = ['cases', 'deaths', 'country']\n",
    "df_raw = df_raw.sort_index()\n",
    "df_raw[df_raw['country'] == 'Hungary'].tail()"
   ]
  },
  {
   "cell_type": "code",
   "execution_count": null,
   "metadata": {},
   "outputs": [],
   "source": [
    "df = df_raw.groupby('country').sum()"
   ]
  },
  {
   "cell_type": "code",
   "execution_count": null,
   "metadata": {},
   "outputs": [],
   "source": [
    "df.to_csv(f'data/world-{day}.csv')"
   ]
  },
  {
   "cell_type": "code",
   "execution_count": null,
   "metadata": {},
   "outputs": [],
   "source": [
    "class FitFunc:\n",
    "    def __init__(self, func, name, disp_eq, params_name, params_init, maxfev=2000, validator=None):\n",
    "        self.func = func\n",
    "        self.name = name\n",
    "        self.disp_eq = disp_eq\n",
    "        self.params_name = params_name\n",
    "        self.params_init = params_init\n",
    "        self.maxfev = maxfev\n",
    "        self.validator = validator\n",
    "    \n",
    "    def fit_timeseries(self, series, pred=7, rmse_ma_window=1):\n",
    "        x = np.arange(len(series))\n",
    "        index = pd.date_range(series.index.min(), periods=(len(series) + pred), freq='D')\n",
    "        with warnings.catch_warnings():\n",
    "            warnings.simplefilter(\"ignore\")\n",
    "            popt, pcov = curve_fit(self.func, x, series.values, maxfev=self.maxfev, p0=self.params_init)\n",
    "        if callable(self.validator) and not self.validator(popt):\n",
    "            return (None, None, None, None, popt)\n",
    "        y = self.func(np.arange(len(index)), *popt)\n",
    "        fit = pd.Series(y, index=index)\n",
    "        rmse_pred = series.rolling(window=rmse_ma_window, center=True, min_periods=1).mean().values\n",
    "        rmse = sqrt(mean_squared_error(y[x], rmse_pred))\n",
    "        max_idx = fit.index[np.argmax(fit)]\n",
    "        max_val = fit[max_idx]\n",
    "        return (fit, rmse, max_idx, max_val, popt)\n",
    "\n",
    "power_func = FitFunc(\n",
    "    func=lambda t, K, x, t0, b: K * np.power(t, x) * np.exp(-t / t0) + b,\n",
    "    name='power law',\n",
    "    disp_eq='$n(t)=Kt^{{x}}e^{{-t/t_0}}+b$',\n",
    "    params_name=['K', 'x', 't_0', 'b'],\n",
    "    params_init=[1, 1, 5, 0],\n",
    "    maxfev=10000,\n",
    "    validator=lambda popt: (popt[0] > 0)\n",
    ")\n",
    "\n",
    "class Diag:\n",
    "    def __init__(self, series, series_name=None, figsize=(16, 10)):\n",
    "        self.series = series\n",
    "        self.figsize = figsize\n",
    "        self.series_name = series_name if series_name else series.name\n",
    "        self.title_lines = [self.series_name]\n",
    "    \n",
    "    def __enter__(self):\n",
    "        self.fig, self.ax = plt.subplots(figsize=self.figsize)\n",
    "        self.ax.yaxis.grid(True, which='major')\n",
    "        locator = mdates.AutoDateLocator()\n",
    "        self.ax.xaxis.set_major_locator(locator)\n",
    "        self.ax.xaxis.set_major_formatter(mdates.ConciseDateFormatter(locator))\n",
    "        self.ax.xaxis.set_minor_locator(mdates.DayLocator())\n",
    "        return self\n",
    "    \n",
    "    def __exit__(self, exc_type, exc_value, exc_traceback):\n",
    "        self.ax.set_title(self.series_name)\n",
    "        self.ax.legend()\n",
    "        self.ax.set_title('\\n'.join(self.title_lines))\n",
    "        plt.show()\n",
    "    \n",
    "    def show_series(self):\n",
    "        self.ax.bar(self.series.index, self.series, align='center', label='data')\n",
    "    \n",
    "    def show_ma(self, window=7, center=True, color='tab:orange', lw=3):\n",
    "        ma = self.series.rolling(window=window, center=center).mean()\n",
    "        self.ax.plot(ma.index, ma, label=f'{window} days moving average', color=color, lw=lw)\n",
    "    \n",
    "    def show_fit(self, fit_func, pred=7, color='tab:red', lw=3):\n",
    "        (fit, rmse, max_idx, max_val, popt) = fit_func.fit_timeseries(self.series, pred)\n",
    "        print(f'{fit_func.name} fit:')\n",
    "        format_num = lambda x: f'{x:.02e}' if x < 0.005 else f'{x:.02f}'\n",
    "        params_str = ', '.join([f'{k} = {format_num(v)}' for k, v in zip(fit_func.params_name, popt)])\n",
    "        print(f'    params: {params_str}')\n",
    "        if fit is not None:\n",
    "            self.ax.plot(fit.index, fit, label=f'{fit_func.name} fit', color=color, lw=lw)\n",
    "            self.ax.axvline(max_idx, color=color, lw=lw)\n",
    "            self.title_lines.append(f'Fit function: {fit_func.name}, {fit_func.disp_eq}')\n",
    "            print(f'    RMSE = {rmse:.02f}')\n",
    "            print(f'    peak day: {max_idx:%Y-%m-%d}, value = {max_val:.0f}')\n",
    "        else:\n",
    "            print('    Could not find valid fit.')"
   ]
  },
  {
   "cell_type": "code",
   "execution_count": null,
   "metadata": {},
   "outputs": [],
   "source": [
    "get_kwarg = lambda kw, k, d: kw[k] if k in kw else d\n",
    "\n",
    "class CountryViz:\n",
    "    def __init__(self, df_raw, fit_func, start=None, end=None, pred=7, ma_window=7):\n",
    "        self.df_raw = df_raw\n",
    "        self.fit_func = fit_func\n",
    "        self.start = start\n",
    "        self.end = end\n",
    "        self.pred = pred\n",
    "        self.ma_window = ma_window\n",
    "        \n",
    "    def _get_series(self, country, column, **kwargs):\n",
    "        series = self.df_raw[(df_raw['country'] == country)].sort_index()[column]\n",
    "        start = kwargs['start'] if 'start' in kwargs else self.start\n",
    "        end = kwargs['end'] if 'end' in kwargs else self.end\n",
    "        if start:\n",
    "            series = series[series.index >= start]\n",
    "        if end:\n",
    "            series = series[series.index <= end]\n",
    "        return series\n",
    "\n",
    "    def _show_diag(self, country, column, name, **kwargs):\n",
    "        pred = get_kwarg(kwargs, 'pred', self.pred)\n",
    "        show_series = get_kwarg(kwargs, 'show_series', True)\n",
    "        show_ma = get_kwarg(kwargs, 'show_ma', True)\n",
    "        show_fit = get_kwarg(kwargs, 'show_fit', True)\n",
    "        series = self._get_series(country, column, **kwargs)\n",
    "        series.name = f'{name} in {country}'\n",
    "        with Diag(series) as diag:\n",
    "            if show_series:\n",
    "                diag.show_series()\n",
    "            if show_ma:\n",
    "                diag.show_ma(window=self.ma_window)\n",
    "            if show_fit:\n",
    "                diag.show_fit(self.fit_func, pred=pred)\n",
    "\n",
    "    def show_deaths(self, country, **kwargs):\n",
    "        self._show_diag(country, 'deaths', 'Daily deaths', **kwargs)\n",
    "    \n",
    "    def show_cases(self, country, **kwargs):\n",
    "        self._show_diag(country, 'cases', 'Daily cases', **kwargs)"
   ]
  },
  {
   "cell_type": "code",
   "execution_count": null,
   "metadata": {},
   "outputs": [],
   "source": [
    "viz = CountryViz(df_raw, power_func)"
   ]
  },
  {
   "cell_type": "code",
   "execution_count": null,
   "metadata": {
    "scrolled": false
   },
   "outputs": [],
   "source": [
    "viz.show_cases('Italy', start='2020-09-01')"
   ]
  },
  {
   "cell_type": "code",
   "execution_count": null,
   "metadata": {},
   "outputs": [],
   "source": [
    "viz.show_deaths('Italy', start='2020-10-01')"
   ]
  },
  {
   "cell_type": "code",
   "execution_count": null,
   "metadata": {
    "scrolled": false
   },
   "outputs": [],
   "source": [
    "viz.show_cases('France', start='2020-09-01')"
   ]
  },
  {
   "cell_type": "code",
   "execution_count": null,
   "metadata": {},
   "outputs": [],
   "source": [
    "viz.show_deaths('France', start='2020-09-15')"
   ]
  },
  {
   "cell_type": "code",
   "execution_count": null,
   "metadata": {},
   "outputs": [],
   "source": [
    "viz.show_cases('Hungary', start='2020-09-15')"
   ]
  },
  {
   "cell_type": "code",
   "execution_count": null,
   "metadata": {},
   "outputs": [],
   "source": [
    "viz.show_deaths('Hungary', start='2020-10-01')"
   ]
  },
  {
   "cell_type": "code",
   "execution_count": null,
   "metadata": {
    "scrolled": false
   },
   "outputs": [],
   "source": [
    "viz.show_cases('Belgium', start='2020-09-01')"
   ]
  },
  {
   "cell_type": "code",
   "execution_count": null,
   "metadata": {},
   "outputs": [],
   "source": [
    "viz.show_deaths('Belgium', start='2020-10-01')"
   ]
  },
  {
   "cell_type": "code",
   "execution_count": null,
   "metadata": {},
   "outputs": [],
   "source": [
    "viz.show_cases('Spain', start='2020-09-01')"
   ]
  },
  {
   "cell_type": "code",
   "execution_count": null,
   "metadata": {},
   "outputs": [],
   "source": [
    "viz.show_deaths('Spain', start='2020-09-15')"
   ]
  },
  {
   "cell_type": "code",
   "execution_count": null,
   "metadata": {},
   "outputs": [],
   "source": [
    "viz.show_cases('United_Kingdom', start='2020-09-01')"
   ]
  },
  {
   "cell_type": "code",
   "execution_count": null,
   "metadata": {},
   "outputs": [],
   "source": [
    "viz.show_deaths('United_Kingdom', start='2020-09-15')"
   ]
  },
  {
   "cell_type": "code",
   "execution_count": null,
   "metadata": {},
   "outputs": [],
   "source": [
    "viz.show_cases('United_States_of_America', start='2020-09-01', pred=14)"
   ]
  },
  {
   "cell_type": "code",
   "execution_count": null,
   "metadata": {},
   "outputs": [],
   "source": [
    "viz.show_deaths('United_States_of_America', start='2020-10-01', pred=14)"
   ]
  },
  {
   "cell_type": "code",
   "execution_count": null,
   "metadata": {},
   "outputs": [],
   "source": [
    "viz.show_cases('Sweden', start='2020-10-01')"
   ]
  },
  {
   "cell_type": "code",
   "execution_count": null,
   "metadata": {},
   "outputs": [],
   "source": [
    "viz.show_deaths('Sweden', start='2020-10-15')"
   ]
  },
  {
   "cell_type": "code",
   "execution_count": null,
   "metadata": {},
   "outputs": [],
   "source": [
    "viz.show_cases('Germany', start='2020-09-15')"
   ]
  },
  {
   "cell_type": "code",
   "execution_count": null,
   "metadata": {},
   "outputs": [],
   "source": [
    "viz.show_deaths('Germany', start='2020-10-01')"
   ]
  },
  {
   "cell_type": "code",
   "execution_count": null,
   "metadata": {},
   "outputs": [],
   "source": [
    "viz.show_cases('Iceland', start='2020-09-01')"
   ]
  },
  {
   "cell_type": "code",
   "execution_count": null,
   "metadata": {},
   "outputs": [],
   "source": [
    "viz.show_cases('Singapore', start='2020-07-01')"
   ]
  },
  {
   "cell_type": "code",
   "execution_count": null,
   "metadata": {},
   "outputs": [],
   "source": [
    "viz.show_cases('South_Korea', start='2020-10-15')"
   ]
  },
  {
   "cell_type": "code",
   "execution_count": null,
   "metadata": {},
   "outputs": [],
   "source": [
    "viz.show_cases('Japan', start='2020-09-15', pred=30)"
   ]
  },
  {
   "cell_type": "code",
   "execution_count": null,
   "metadata": {},
   "outputs": [],
   "source": [
    "viz.show_cases('Brazil', start='2020-04-01')"
   ]
  },
  {
   "cell_type": "code",
   "execution_count": null,
   "metadata": {},
   "outputs": [],
   "source": [
    "viz.show_deaths('Brazil', start='2020-04-01')"
   ]
  },
  {
   "cell_type": "code",
   "execution_count": null,
   "metadata": {},
   "outputs": [],
   "source": [
    "viz.show_cases('Russia', start='2020-08-15', pred=60)"
   ]
  },
  {
   "cell_type": "code",
   "execution_count": null,
   "metadata": {},
   "outputs": [],
   "source": [
    "viz.show_deaths('Russia', start='2020-09-15', pred=150)"
   ]
  },
  {
   "cell_type": "code",
   "execution_count": null,
   "metadata": {},
   "outputs": [],
   "source": [
    "viz.show_cases('Romania', start='2020-09-01')"
   ]
  },
  {
   "cell_type": "code",
   "execution_count": null,
   "metadata": {},
   "outputs": [],
   "source": [
    "viz.show_deaths('Romania', start='2020-10-01')"
   ]
  },
  {
   "cell_type": "code",
   "execution_count": null,
   "metadata": {},
   "outputs": [],
   "source": [
    "viz.show_cases('Ukraine', start='2020-08-01')"
   ]
  },
  {
   "cell_type": "code",
   "execution_count": null,
   "metadata": {},
   "outputs": [],
   "source": [
    "viz.show_cases('Iran', start='2020-10-01', pred=30)"
   ]
  },
  {
   "cell_type": "code",
   "execution_count": null,
   "metadata": {},
   "outputs": [],
   "source": [
    "viz.show_deaths('Iran', start='2020-09-01', pred=30)"
   ]
  },
  {
   "cell_type": "code",
   "execution_count": null,
   "metadata": {},
   "outputs": [],
   "source": [
    "viz.show_cases('Czechia', start='2020-09-15')"
   ]
  },
  {
   "cell_type": "code",
   "execution_count": null,
   "metadata": {},
   "outputs": [],
   "source": [
    "viz.show_deaths('Czechia', start='2020-09-15')"
   ]
  },
  {
   "cell_type": "code",
   "execution_count": null,
   "metadata": {},
   "outputs": [],
   "source": [
    "viz.show_cases('South_Africa', start='2020-04-15')"
   ]
  },
  {
   "cell_type": "code",
   "execution_count": null,
   "metadata": {},
   "outputs": [],
   "source": [
    "# fig, ax = CountryViz('Chile', '2020-02-15', df_raw).show_cases()\n",
    "# ax.set_ylim(None, 8000)"
   ]
  },
  {
   "cell_type": "code",
   "execution_count": null,
   "metadata": {},
   "outputs": [],
   "source": [
    "# CountryViz('Australia', '2020-02-15', df_raw).show_cases()"
   ]
  },
  {
   "cell_type": "code",
   "execution_count": null,
   "metadata": {},
   "outputs": [],
   "source": [
    "# CountryViz('New_Zealand', '2020-02-15', df_raw).show_cases()"
   ]
  },
  {
   "cell_type": "code",
   "execution_count": null,
   "metadata": {},
   "outputs": [],
   "source": [
    "# CountryViz('Canada', '2020-02-15', df_raw).show_cases()"
   ]
  },
  {
   "cell_type": "code",
   "execution_count": null,
   "metadata": {},
   "outputs": [],
   "source": [
    "# india = CountryViz('India', '2020-02-15', df_raw)\n",
    "# india.show_cases()"
   ]
  },
  {
   "cell_type": "code",
   "execution_count": null,
   "metadata": {},
   "outputs": [],
   "source": [
    "# india.show_deaths()"
   ]
  },
  {
   "cell_type": "code",
   "execution_count": null,
   "metadata": {},
   "outputs": [],
   "source": [
    "# fig, ax = CountryViz('China', '2020-01-01', df_raw).show_cases()\n",
    "# ax.set_ylim(0, 5000)"
   ]
  },
  {
   "cell_type": "code",
   "execution_count": null,
   "metadata": {},
   "outputs": [],
   "source": [
    "# fig, ax = CountryViz('Belgium', '2020-01-01', df_raw).show_cases()"
   ]
  },
  {
   "cell_type": "code",
   "execution_count": null,
   "metadata": {},
   "outputs": [],
   "source": [
    "sorted(df_raw['country'].unique())"
   ]
  },
  {
   "cell_type": "code",
   "execution_count": null,
   "metadata": {},
   "outputs": [],
   "source": [
    "from matplotlib.patches import Ellipse\n",
    "\n",
    "fig, ax = plt.subplots(figsize=(16, 10))\n",
    "country = 'China'\n",
    "start = '2020-01-15'\n",
    "end = '2020-03-01'\n",
    "country_df = df_raw[(df_raw['country'] == country) & (df_raw.index > start) & (df_raw.index < end)].sort_index()\n",
    "ax.set_title('Total cases of COVID-19 in China')\n",
    "cases_exp = country_df['cases'].expanding().sum()\n",
    "ax.plot(cases_exp)\n",
    "\n",
    "ann_start = '2020-02-12'\n",
    "ann_stop = '2020-02-13'\n",
    "\n",
    "ann_center_x = (mdates.datestr2num(ann_start) + mdates.datestr2num(ann_stop)) / 2\n",
    "ann_center_y = (cases_exp[ann_start] + cases_exp[ann_stop]) / 2\n",
    "ann_zoom = 1.5\n",
    "ann_height = (cases_exp[ann_stop] - cases_exp[ann_start]) * ann_zoom\n",
    "timespan = mdates.datestr2num(ann_stop) - mdates.datestr2num(ann_start)\n",
    "ann_width = timespan * 2 * ann_zoom\n",
    "ellipse = Ellipse(xy=(ann_center_x, ann_center_y), width=ann_width, height=ann_height, edgecolor='r', fc='None', lw=2)\n",
    "ax.add_patch(ellipse)\n",
    "\n",
    "ax.annotate('China changed\\ncase definition',\n",
    "            xy=(ann_center_x, ann_center_y), xycoords='data',\n",
    "            xytext=(50, -100), textcoords='offset points',\n",
    "            size=15,\n",
    "            arrowprops=dict(arrowstyle=\"simple\",\n",
    "                            fc=\"0.6\", ec=\"none\",\n",
    "                            patchB=ellipse,\n",
    "                            connectionstyle=\"arc3,rad=0.3\"))\n",
    "\n",
    "plt.show()"
   ]
  },
  {
   "cell_type": "code",
   "execution_count": null,
   "metadata": {},
   "outputs": [],
   "source": []
  }
 ],
 "metadata": {
  "kernelspec": {
   "display_name": "workspace",
   "language": "python",
   "name": "workspace"
  },
  "language_info": {
   "codemirror_mode": {
    "name": "ipython",
    "version": 3
   },
   "file_extension": ".py",
   "mimetype": "text/x-python",
   "name": "python",
   "nbconvert_exporter": "python",
   "pygments_lexer": "ipython3",
   "version": "3.7.8"
  }
 },
 "nbformat": 4,
 "nbformat_minor": 4
}
